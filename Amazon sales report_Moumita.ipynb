{
 "cells": [
  {
   "cell_type": "markdown",
   "id": "bab70fc0",
   "metadata": {},
   "source": [
    "# ANALYZE  AND  PROVIDE INSIGHTS  ON AMAZON  SALES  REPORT"
   ]
  },
  {
   "cell_type": "code",
   "execution_count": 1,
   "id": "8353435f",
   "metadata": {},
   "outputs": [],
   "source": [
    "import pandas as pd\n",
    "import numpy as np\n",
    "import seaborn as sns\n",
    "import matplotlib.pyplot as plt\n",
    "from sklearn.preprocessing import StandardScaler\n",
    "from sklearn.cluster import KMeans\n",
    "import warnings\n",
    "warnings.filterwarnings(\"ignore\")"
   ]
  },
  {
   "cell_type": "code",
   "execution_count": 2,
   "id": "d512a1aa",
   "metadata": {},
   "outputs": [
    {
     "data": {
      "text/html": [
       "<div>\n",
       "<style scoped>\n",
       "    .dataframe tbody tr th:only-of-type {\n",
       "        vertical-align: middle;\n",
       "    }\n",
       "\n",
       "    .dataframe tbody tr th {\n",
       "        vertical-align: top;\n",
       "    }\n",
       "\n",
       "    .dataframe thead th {\n",
       "        text-align: right;\n",
       "    }\n",
       "</style>\n",
       "<table border=\"1\" class=\"dataframe\">\n",
       "  <thead>\n",
       "    <tr style=\"text-align: right;\">\n",
       "      <th></th>\n",
       "      <th>index</th>\n",
       "      <th>Order ID</th>\n",
       "      <th>Date</th>\n",
       "      <th>Status</th>\n",
       "      <th>Fulfilment</th>\n",
       "      <th>Sales Channel</th>\n",
       "      <th>ship-service-level</th>\n",
       "      <th>Category</th>\n",
       "      <th>Size</th>\n",
       "      <th>Courier Status</th>\n",
       "      <th>...</th>\n",
       "      <th>currency</th>\n",
       "      <th>Amount</th>\n",
       "      <th>ship-city</th>\n",
       "      <th>ship-state</th>\n",
       "      <th>ship-postal-code</th>\n",
       "      <th>ship-country</th>\n",
       "      <th>B2B</th>\n",
       "      <th>fulfilled-by</th>\n",
       "      <th>New</th>\n",
       "      <th>PendingS</th>\n",
       "    </tr>\n",
       "  </thead>\n",
       "  <tbody>\n",
       "    <tr>\n",
       "      <th>0</th>\n",
       "      <td>0</td>\n",
       "      <td>405-8078784-5731545</td>\n",
       "      <td>04-30-22</td>\n",
       "      <td>Cancelled</td>\n",
       "      <td>Merchant</td>\n",
       "      <td>Amazon.in</td>\n",
       "      <td>Standard</td>\n",
       "      <td>T-shirt</td>\n",
       "      <td>S</td>\n",
       "      <td>On the Way</td>\n",
       "      <td>...</td>\n",
       "      <td>INR</td>\n",
       "      <td>647.62</td>\n",
       "      <td>MUMBAI</td>\n",
       "      <td>MAHARASHTRA</td>\n",
       "      <td>400081.0</td>\n",
       "      <td>IN</td>\n",
       "      <td>False</td>\n",
       "      <td>Easy Ship</td>\n",
       "      <td>NaN</td>\n",
       "      <td>NaN</td>\n",
       "    </tr>\n",
       "    <tr>\n",
       "      <th>1</th>\n",
       "      <td>1</td>\n",
       "      <td>171-9198151-1101146</td>\n",
       "      <td>04-30-22</td>\n",
       "      <td>Shipped - Delivered to Buyer</td>\n",
       "      <td>Merchant</td>\n",
       "      <td>Amazon.in</td>\n",
       "      <td>Standard</td>\n",
       "      <td>Shirt</td>\n",
       "      <td>3XL</td>\n",
       "      <td>Shipped</td>\n",
       "      <td>...</td>\n",
       "      <td>INR</td>\n",
       "      <td>406.00</td>\n",
       "      <td>BENGALURU</td>\n",
       "      <td>KARNATAKA</td>\n",
       "      <td>560085.0</td>\n",
       "      <td>IN</td>\n",
       "      <td>False</td>\n",
       "      <td>Easy Ship</td>\n",
       "      <td>NaN</td>\n",
       "      <td>NaN</td>\n",
       "    </tr>\n",
       "    <tr>\n",
       "      <th>2</th>\n",
       "      <td>2</td>\n",
       "      <td>404-0687676-7273146</td>\n",
       "      <td>04-30-22</td>\n",
       "      <td>Shipped</td>\n",
       "      <td>Amazon</td>\n",
       "      <td>Amazon.in</td>\n",
       "      <td>Expedited</td>\n",
       "      <td>Shirt</td>\n",
       "      <td>XL</td>\n",
       "      <td>Shipped</td>\n",
       "      <td>...</td>\n",
       "      <td>INR</td>\n",
       "      <td>329.00</td>\n",
       "      <td>NAVI MUMBAI</td>\n",
       "      <td>MAHARASHTRA</td>\n",
       "      <td>410210.0</td>\n",
       "      <td>IN</td>\n",
       "      <td>True</td>\n",
       "      <td>NaN</td>\n",
       "      <td>NaN</td>\n",
       "      <td>NaN</td>\n",
       "    </tr>\n",
       "    <tr>\n",
       "      <th>3</th>\n",
       "      <td>3</td>\n",
       "      <td>403-9615377-8133951</td>\n",
       "      <td>04-30-22</td>\n",
       "      <td>Cancelled</td>\n",
       "      <td>Merchant</td>\n",
       "      <td>Amazon.in</td>\n",
       "      <td>Standard</td>\n",
       "      <td>Blazzer</td>\n",
       "      <td>L</td>\n",
       "      <td>On the Way</td>\n",
       "      <td>...</td>\n",
       "      <td>INR</td>\n",
       "      <td>753.33</td>\n",
       "      <td>PUDUCHERRY</td>\n",
       "      <td>PUDUCHERRY</td>\n",
       "      <td>605008.0</td>\n",
       "      <td>IN</td>\n",
       "      <td>False</td>\n",
       "      <td>Easy Ship</td>\n",
       "      <td>NaN</td>\n",
       "      <td>NaN</td>\n",
       "    </tr>\n",
       "    <tr>\n",
       "      <th>4</th>\n",
       "      <td>4</td>\n",
       "      <td>407-1069790-7240320</td>\n",
       "      <td>04-30-22</td>\n",
       "      <td>Shipped</td>\n",
       "      <td>Amazon</td>\n",
       "      <td>Amazon.in</td>\n",
       "      <td>Expedited</td>\n",
       "      <td>Trousers</td>\n",
       "      <td>3XL</td>\n",
       "      <td>Shipped</td>\n",
       "      <td>...</td>\n",
       "      <td>INR</td>\n",
       "      <td>574.00</td>\n",
       "      <td>CHENNAI</td>\n",
       "      <td>TAMIL NADU</td>\n",
       "      <td>600073.0</td>\n",
       "      <td>IN</td>\n",
       "      <td>False</td>\n",
       "      <td>NaN</td>\n",
       "      <td>NaN</td>\n",
       "      <td>NaN</td>\n",
       "    </tr>\n",
       "    <tr>\n",
       "      <th>...</th>\n",
       "      <td>...</td>\n",
       "      <td>...</td>\n",
       "      <td>...</td>\n",
       "      <td>...</td>\n",
       "      <td>...</td>\n",
       "      <td>...</td>\n",
       "      <td>...</td>\n",
       "      <td>...</td>\n",
       "      <td>...</td>\n",
       "      <td>...</td>\n",
       "      <td>...</td>\n",
       "      <td>...</td>\n",
       "      <td>...</td>\n",
       "      <td>...</td>\n",
       "      <td>...</td>\n",
       "      <td>...</td>\n",
       "      <td>...</td>\n",
       "      <td>...</td>\n",
       "      <td>...</td>\n",
       "      <td>...</td>\n",
       "      <td>...</td>\n",
       "    </tr>\n",
       "    <tr>\n",
       "      <th>128971</th>\n",
       "      <td>128970</td>\n",
       "      <td>406-6001380-7673107</td>\n",
       "      <td>05-31-22</td>\n",
       "      <td>Shipped</td>\n",
       "      <td>Amazon</td>\n",
       "      <td>Amazon.in</td>\n",
       "      <td>Expedited</td>\n",
       "      <td>Shirt</td>\n",
       "      <td>XL</td>\n",
       "      <td>Shipped</td>\n",
       "      <td>...</td>\n",
       "      <td>INR</td>\n",
       "      <td>517.00</td>\n",
       "      <td>HYDERABAD</td>\n",
       "      <td>TELANGANA</td>\n",
       "      <td>500013.0</td>\n",
       "      <td>IN</td>\n",
       "      <td>False</td>\n",
       "      <td>NaN</td>\n",
       "      <td>NaN</td>\n",
       "      <td>NaN</td>\n",
       "    </tr>\n",
       "    <tr>\n",
       "      <th>128972</th>\n",
       "      <td>128971</td>\n",
       "      <td>402-9551604-7544318</td>\n",
       "      <td>05-31-22</td>\n",
       "      <td>Shipped</td>\n",
       "      <td>Amazon</td>\n",
       "      <td>Amazon.in</td>\n",
       "      <td>Expedited</td>\n",
       "      <td>T-shirt</td>\n",
       "      <td>M</td>\n",
       "      <td>Shipped</td>\n",
       "      <td>...</td>\n",
       "      <td>INR</td>\n",
       "      <td>999.00</td>\n",
       "      <td>GURUGRAM</td>\n",
       "      <td>HARYANA</td>\n",
       "      <td>122004.0</td>\n",
       "      <td>IN</td>\n",
       "      <td>False</td>\n",
       "      <td>NaN</td>\n",
       "      <td>NaN</td>\n",
       "      <td>NaN</td>\n",
       "    </tr>\n",
       "    <tr>\n",
       "      <th>128973</th>\n",
       "      <td>128972</td>\n",
       "      <td>407-9547469-3152358</td>\n",
       "      <td>05-31-22</td>\n",
       "      <td>Shipped</td>\n",
       "      <td>Amazon</td>\n",
       "      <td>Amazon.in</td>\n",
       "      <td>Expedited</td>\n",
       "      <td>Blazzer</td>\n",
       "      <td>XXL</td>\n",
       "      <td>Shipped</td>\n",
       "      <td>...</td>\n",
       "      <td>INR</td>\n",
       "      <td>690.00</td>\n",
       "      <td>HYDERABAD</td>\n",
       "      <td>TELANGANA</td>\n",
       "      <td>500049.0</td>\n",
       "      <td>IN</td>\n",
       "      <td>False</td>\n",
       "      <td>NaN</td>\n",
       "      <td>NaN</td>\n",
       "      <td>NaN</td>\n",
       "    </tr>\n",
       "    <tr>\n",
       "      <th>128974</th>\n",
       "      <td>128973</td>\n",
       "      <td>402-6184140-0545956</td>\n",
       "      <td>05-31-22</td>\n",
       "      <td>Shipped</td>\n",
       "      <td>Amazon</td>\n",
       "      <td>Amazon.in</td>\n",
       "      <td>Expedited</td>\n",
       "      <td>T-shirt</td>\n",
       "      <td>XS</td>\n",
       "      <td>Shipped</td>\n",
       "      <td>...</td>\n",
       "      <td>INR</td>\n",
       "      <td>1199.00</td>\n",
       "      <td>Halol</td>\n",
       "      <td>Gujarat</td>\n",
       "      <td>389350.0</td>\n",
       "      <td>IN</td>\n",
       "      <td>False</td>\n",
       "      <td>NaN</td>\n",
       "      <td>NaN</td>\n",
       "      <td>NaN</td>\n",
       "    </tr>\n",
       "    <tr>\n",
       "      <th>128975</th>\n",
       "      <td>128974</td>\n",
       "      <td>408-7436540-8728312</td>\n",
       "      <td>05-31-22</td>\n",
       "      <td>Shipped</td>\n",
       "      <td>Amazon</td>\n",
       "      <td>Amazon.in</td>\n",
       "      <td>Expedited</td>\n",
       "      <td>T-shirt</td>\n",
       "      <td>S</td>\n",
       "      <td>Shipped</td>\n",
       "      <td>...</td>\n",
       "      <td>INR</td>\n",
       "      <td>696.00</td>\n",
       "      <td>Raipur</td>\n",
       "      <td>CHHATTISGARH</td>\n",
       "      <td>492014.0</td>\n",
       "      <td>IN</td>\n",
       "      <td>False</td>\n",
       "      <td>NaN</td>\n",
       "      <td>NaN</td>\n",
       "      <td>NaN</td>\n",
       "    </tr>\n",
       "  </tbody>\n",
       "</table>\n",
       "<p>128976 rows × 21 columns</p>\n",
       "</div>"
      ],
      "text/plain": [
       "         index             Order ID      Date                        Status  \\\n",
       "0            0  405-8078784-5731545  04-30-22                     Cancelled   \n",
       "1            1  171-9198151-1101146  04-30-22  Shipped - Delivered to Buyer   \n",
       "2            2  404-0687676-7273146  04-30-22                       Shipped   \n",
       "3            3  403-9615377-8133951  04-30-22                     Cancelled   \n",
       "4            4  407-1069790-7240320  04-30-22                       Shipped   \n",
       "...        ...                  ...       ...                           ...   \n",
       "128971  128970  406-6001380-7673107  05-31-22                       Shipped   \n",
       "128972  128971  402-9551604-7544318  05-31-22                       Shipped   \n",
       "128973  128972  407-9547469-3152358  05-31-22                       Shipped   \n",
       "128974  128973  402-6184140-0545956  05-31-22                       Shipped   \n",
       "128975  128974  408-7436540-8728312  05-31-22                       Shipped   \n",
       "\n",
       "       Fulfilment Sales Channel ship-service-level  Category Size  \\\n",
       "0        Merchant     Amazon.in           Standard   T-shirt    S   \n",
       "1        Merchant     Amazon.in           Standard     Shirt  3XL   \n",
       "2          Amazon     Amazon.in          Expedited     Shirt   XL   \n",
       "3        Merchant     Amazon.in           Standard   Blazzer    L   \n",
       "4          Amazon     Amazon.in          Expedited  Trousers  3XL   \n",
       "...           ...           ...                ...       ...  ...   \n",
       "128971     Amazon     Amazon.in          Expedited     Shirt   XL   \n",
       "128972     Amazon     Amazon.in          Expedited   T-shirt    M   \n",
       "128973     Amazon     Amazon.in          Expedited   Blazzer  XXL   \n",
       "128974     Amazon     Amazon.in          Expedited   T-shirt   XS   \n",
       "128975     Amazon     Amazon.in          Expedited   T-shirt    S   \n",
       "\n",
       "       Courier Status  ...  currency   Amount    ship-city    ship-state  \\\n",
       "0          On the Way  ...       INR   647.62       MUMBAI   MAHARASHTRA   \n",
       "1             Shipped  ...       INR   406.00    BENGALURU     KARNATAKA   \n",
       "2             Shipped  ...       INR   329.00  NAVI MUMBAI   MAHARASHTRA   \n",
       "3          On the Way  ...       INR   753.33   PUDUCHERRY    PUDUCHERRY   \n",
       "4             Shipped  ...       INR   574.00      CHENNAI    TAMIL NADU   \n",
       "...               ...  ...       ...      ...          ...           ...   \n",
       "128971        Shipped  ...       INR   517.00    HYDERABAD     TELANGANA   \n",
       "128972        Shipped  ...       INR   999.00     GURUGRAM       HARYANA   \n",
       "128973        Shipped  ...       INR   690.00    HYDERABAD     TELANGANA   \n",
       "128974        Shipped  ...       INR  1199.00        Halol       Gujarat   \n",
       "128975        Shipped  ...       INR   696.00       Raipur  CHHATTISGARH   \n",
       "\n",
       "       ship-postal-code  ship-country    B2B  fulfilled-by New  PendingS  \n",
       "0              400081.0            IN  False     Easy Ship NaN       NaN  \n",
       "1              560085.0            IN  False     Easy Ship NaN       NaN  \n",
       "2              410210.0            IN   True           NaN NaN       NaN  \n",
       "3              605008.0            IN  False     Easy Ship NaN       NaN  \n",
       "4              600073.0            IN  False           NaN NaN       NaN  \n",
       "...                 ...           ...    ...           ...  ..       ...  \n",
       "128971         500013.0            IN  False           NaN NaN       NaN  \n",
       "128972         122004.0            IN  False           NaN NaN       NaN  \n",
       "128973         500049.0            IN  False           NaN NaN       NaN  \n",
       "128974         389350.0            IN  False           NaN NaN       NaN  \n",
       "128975         492014.0            IN  False           NaN NaN       NaN  \n",
       "\n",
       "[128976 rows x 21 columns]"
      ]
     },
     "execution_count": 2,
     "metadata": {},
     "output_type": "execute_result"
    }
   ],
   "source": [
    "df = pd.read_csv(\"Amazon sales report.csv\", encoding='ISO-8859-1')\n",
    "df\n"
   ]
  },
  {
   "cell_type": "code",
   "execution_count": 3,
   "id": "030a0d82",
   "metadata": {
    "scrolled": false
   },
   "outputs": [
    {
     "data": {
      "text/html": [
       "<div>\n",
       "<style scoped>\n",
       "    .dataframe tbody tr th:only-of-type {\n",
       "        vertical-align: middle;\n",
       "    }\n",
       "\n",
       "    .dataframe tbody tr th {\n",
       "        vertical-align: top;\n",
       "    }\n",
       "\n",
       "    .dataframe thead th {\n",
       "        text-align: right;\n",
       "    }\n",
       "</style>\n",
       "<table border=\"1\" class=\"dataframe\">\n",
       "  <thead>\n",
       "    <tr style=\"text-align: right;\">\n",
       "      <th></th>\n",
       "      <th>index</th>\n",
       "      <th>Order ID</th>\n",
       "      <th>Date</th>\n",
       "      <th>Status</th>\n",
       "      <th>Fulfilment</th>\n",
       "      <th>Sales Channel</th>\n",
       "      <th>ship-service-level</th>\n",
       "      <th>Category</th>\n",
       "      <th>Size</th>\n",
       "      <th>Courier Status</th>\n",
       "      <th>...</th>\n",
       "      <th>currency</th>\n",
       "      <th>Amount</th>\n",
       "      <th>ship-city</th>\n",
       "      <th>ship-state</th>\n",
       "      <th>ship-postal-code</th>\n",
       "      <th>ship-country</th>\n",
       "      <th>B2B</th>\n",
       "      <th>fulfilled-by</th>\n",
       "      <th>New</th>\n",
       "      <th>PendingS</th>\n",
       "    </tr>\n",
       "  </thead>\n",
       "  <tbody>\n",
       "    <tr>\n",
       "      <th>0</th>\n",
       "      <td>0</td>\n",
       "      <td>405-8078784-5731545</td>\n",
       "      <td>04-30-22</td>\n",
       "      <td>Cancelled</td>\n",
       "      <td>Merchant</td>\n",
       "      <td>Amazon.in</td>\n",
       "      <td>Standard</td>\n",
       "      <td>T-shirt</td>\n",
       "      <td>S</td>\n",
       "      <td>On the Way</td>\n",
       "      <td>...</td>\n",
       "      <td>INR</td>\n",
       "      <td>647.62</td>\n",
       "      <td>MUMBAI</td>\n",
       "      <td>MAHARASHTRA</td>\n",
       "      <td>400081.0</td>\n",
       "      <td>IN</td>\n",
       "      <td>False</td>\n",
       "      <td>Easy Ship</td>\n",
       "      <td>NaN</td>\n",
       "      <td>NaN</td>\n",
       "    </tr>\n",
       "    <tr>\n",
       "      <th>1</th>\n",
       "      <td>1</td>\n",
       "      <td>171-9198151-1101146</td>\n",
       "      <td>04-30-22</td>\n",
       "      <td>Shipped - Delivered to Buyer</td>\n",
       "      <td>Merchant</td>\n",
       "      <td>Amazon.in</td>\n",
       "      <td>Standard</td>\n",
       "      <td>Shirt</td>\n",
       "      <td>3XL</td>\n",
       "      <td>Shipped</td>\n",
       "      <td>...</td>\n",
       "      <td>INR</td>\n",
       "      <td>406.00</td>\n",
       "      <td>BENGALURU</td>\n",
       "      <td>KARNATAKA</td>\n",
       "      <td>560085.0</td>\n",
       "      <td>IN</td>\n",
       "      <td>False</td>\n",
       "      <td>Easy Ship</td>\n",
       "      <td>NaN</td>\n",
       "      <td>NaN</td>\n",
       "    </tr>\n",
       "    <tr>\n",
       "      <th>2</th>\n",
       "      <td>2</td>\n",
       "      <td>404-0687676-7273146</td>\n",
       "      <td>04-30-22</td>\n",
       "      <td>Shipped</td>\n",
       "      <td>Amazon</td>\n",
       "      <td>Amazon.in</td>\n",
       "      <td>Expedited</td>\n",
       "      <td>Shirt</td>\n",
       "      <td>XL</td>\n",
       "      <td>Shipped</td>\n",
       "      <td>...</td>\n",
       "      <td>INR</td>\n",
       "      <td>329.00</td>\n",
       "      <td>NAVI MUMBAI</td>\n",
       "      <td>MAHARASHTRA</td>\n",
       "      <td>410210.0</td>\n",
       "      <td>IN</td>\n",
       "      <td>True</td>\n",
       "      <td>NaN</td>\n",
       "      <td>NaN</td>\n",
       "      <td>NaN</td>\n",
       "    </tr>\n",
       "    <tr>\n",
       "      <th>3</th>\n",
       "      <td>3</td>\n",
       "      <td>403-9615377-8133951</td>\n",
       "      <td>04-30-22</td>\n",
       "      <td>Cancelled</td>\n",
       "      <td>Merchant</td>\n",
       "      <td>Amazon.in</td>\n",
       "      <td>Standard</td>\n",
       "      <td>Blazzer</td>\n",
       "      <td>L</td>\n",
       "      <td>On the Way</td>\n",
       "      <td>...</td>\n",
       "      <td>INR</td>\n",
       "      <td>753.33</td>\n",
       "      <td>PUDUCHERRY</td>\n",
       "      <td>PUDUCHERRY</td>\n",
       "      <td>605008.0</td>\n",
       "      <td>IN</td>\n",
       "      <td>False</td>\n",
       "      <td>Easy Ship</td>\n",
       "      <td>NaN</td>\n",
       "      <td>NaN</td>\n",
       "    </tr>\n",
       "    <tr>\n",
       "      <th>4</th>\n",
       "      <td>4</td>\n",
       "      <td>407-1069790-7240320</td>\n",
       "      <td>04-30-22</td>\n",
       "      <td>Shipped</td>\n",
       "      <td>Amazon</td>\n",
       "      <td>Amazon.in</td>\n",
       "      <td>Expedited</td>\n",
       "      <td>Trousers</td>\n",
       "      <td>3XL</td>\n",
       "      <td>Shipped</td>\n",
       "      <td>...</td>\n",
       "      <td>INR</td>\n",
       "      <td>574.00</td>\n",
       "      <td>CHENNAI</td>\n",
       "      <td>TAMIL NADU</td>\n",
       "      <td>600073.0</td>\n",
       "      <td>IN</td>\n",
       "      <td>False</td>\n",
       "      <td>NaN</td>\n",
       "      <td>NaN</td>\n",
       "      <td>NaN</td>\n",
       "    </tr>\n",
       "  </tbody>\n",
       "</table>\n",
       "<p>5 rows × 21 columns</p>\n",
       "</div>"
      ],
      "text/plain": [
       "   index             Order ID      Date                        Status  \\\n",
       "0      0  405-8078784-5731545  04-30-22                     Cancelled   \n",
       "1      1  171-9198151-1101146  04-30-22  Shipped - Delivered to Buyer   \n",
       "2      2  404-0687676-7273146  04-30-22                       Shipped   \n",
       "3      3  403-9615377-8133951  04-30-22                     Cancelled   \n",
       "4      4  407-1069790-7240320  04-30-22                       Shipped   \n",
       "\n",
       "  Fulfilment Sales Channel ship-service-level  Category Size Courier Status  \\\n",
       "0   Merchant     Amazon.in           Standard   T-shirt    S     On the Way   \n",
       "1   Merchant     Amazon.in           Standard     Shirt  3XL        Shipped   \n",
       "2     Amazon     Amazon.in          Expedited     Shirt   XL        Shipped   \n",
       "3   Merchant     Amazon.in           Standard   Blazzer    L     On the Way   \n",
       "4     Amazon     Amazon.in          Expedited  Trousers  3XL        Shipped   \n",
       "\n",
       "   ...  currency  Amount    ship-city   ship-state ship-postal-code  \\\n",
       "0  ...       INR  647.62       MUMBAI  MAHARASHTRA         400081.0   \n",
       "1  ...       INR  406.00    BENGALURU    KARNATAKA         560085.0   \n",
       "2  ...       INR  329.00  NAVI MUMBAI  MAHARASHTRA         410210.0   \n",
       "3  ...       INR  753.33   PUDUCHERRY   PUDUCHERRY         605008.0   \n",
       "4  ...       INR  574.00      CHENNAI   TAMIL NADU         600073.0   \n",
       "\n",
       "   ship-country    B2B  fulfilled-by New  PendingS  \n",
       "0            IN  False     Easy Ship NaN       NaN  \n",
       "1            IN  False     Easy Ship NaN       NaN  \n",
       "2            IN   True           NaN NaN       NaN  \n",
       "3            IN  False     Easy Ship NaN       NaN  \n",
       "4            IN  False           NaN NaN       NaN  \n",
       "\n",
       "[5 rows x 21 columns]"
      ]
     },
     "execution_count": 3,
     "metadata": {},
     "output_type": "execute_result"
    }
   ],
   "source": [
    "#The first few rows of the dataframe\n",
    "df.head()"
   ]
  },
  {
   "cell_type": "code",
   "execution_count": 4,
   "id": "b613563e",
   "metadata": {},
   "outputs": [
    {
     "data": {
      "text/html": [
       "<div>\n",
       "<style scoped>\n",
       "    .dataframe tbody tr th:only-of-type {\n",
       "        vertical-align: middle;\n",
       "    }\n",
       "\n",
       "    .dataframe tbody tr th {\n",
       "        vertical-align: top;\n",
       "    }\n",
       "\n",
       "    .dataframe thead th {\n",
       "        text-align: right;\n",
       "    }\n",
       "</style>\n",
       "<table border=\"1\" class=\"dataframe\">\n",
       "  <thead>\n",
       "    <tr style=\"text-align: right;\">\n",
       "      <th></th>\n",
       "      <th>index</th>\n",
       "      <th>Order ID</th>\n",
       "      <th>Date</th>\n",
       "      <th>Status</th>\n",
       "      <th>Fulfilment</th>\n",
       "      <th>Sales Channel</th>\n",
       "      <th>ship-service-level</th>\n",
       "      <th>Category</th>\n",
       "      <th>Size</th>\n",
       "      <th>Courier Status</th>\n",
       "      <th>...</th>\n",
       "      <th>currency</th>\n",
       "      <th>Amount</th>\n",
       "      <th>ship-city</th>\n",
       "      <th>ship-state</th>\n",
       "      <th>ship-postal-code</th>\n",
       "      <th>ship-country</th>\n",
       "      <th>B2B</th>\n",
       "      <th>fulfilled-by</th>\n",
       "      <th>New</th>\n",
       "      <th>PendingS</th>\n",
       "    </tr>\n",
       "  </thead>\n",
       "  <tbody>\n",
       "    <tr>\n",
       "      <th>128971</th>\n",
       "      <td>128970</td>\n",
       "      <td>406-6001380-7673107</td>\n",
       "      <td>05-31-22</td>\n",
       "      <td>Shipped</td>\n",
       "      <td>Amazon</td>\n",
       "      <td>Amazon.in</td>\n",
       "      <td>Expedited</td>\n",
       "      <td>Shirt</td>\n",
       "      <td>XL</td>\n",
       "      <td>Shipped</td>\n",
       "      <td>...</td>\n",
       "      <td>INR</td>\n",
       "      <td>517.0</td>\n",
       "      <td>HYDERABAD</td>\n",
       "      <td>TELANGANA</td>\n",
       "      <td>500013.0</td>\n",
       "      <td>IN</td>\n",
       "      <td>False</td>\n",
       "      <td>NaN</td>\n",
       "      <td>NaN</td>\n",
       "      <td>NaN</td>\n",
       "    </tr>\n",
       "    <tr>\n",
       "      <th>128972</th>\n",
       "      <td>128971</td>\n",
       "      <td>402-9551604-7544318</td>\n",
       "      <td>05-31-22</td>\n",
       "      <td>Shipped</td>\n",
       "      <td>Amazon</td>\n",
       "      <td>Amazon.in</td>\n",
       "      <td>Expedited</td>\n",
       "      <td>T-shirt</td>\n",
       "      <td>M</td>\n",
       "      <td>Shipped</td>\n",
       "      <td>...</td>\n",
       "      <td>INR</td>\n",
       "      <td>999.0</td>\n",
       "      <td>GURUGRAM</td>\n",
       "      <td>HARYANA</td>\n",
       "      <td>122004.0</td>\n",
       "      <td>IN</td>\n",
       "      <td>False</td>\n",
       "      <td>NaN</td>\n",
       "      <td>NaN</td>\n",
       "      <td>NaN</td>\n",
       "    </tr>\n",
       "    <tr>\n",
       "      <th>128973</th>\n",
       "      <td>128972</td>\n",
       "      <td>407-9547469-3152358</td>\n",
       "      <td>05-31-22</td>\n",
       "      <td>Shipped</td>\n",
       "      <td>Amazon</td>\n",
       "      <td>Amazon.in</td>\n",
       "      <td>Expedited</td>\n",
       "      <td>Blazzer</td>\n",
       "      <td>XXL</td>\n",
       "      <td>Shipped</td>\n",
       "      <td>...</td>\n",
       "      <td>INR</td>\n",
       "      <td>690.0</td>\n",
       "      <td>HYDERABAD</td>\n",
       "      <td>TELANGANA</td>\n",
       "      <td>500049.0</td>\n",
       "      <td>IN</td>\n",
       "      <td>False</td>\n",
       "      <td>NaN</td>\n",
       "      <td>NaN</td>\n",
       "      <td>NaN</td>\n",
       "    </tr>\n",
       "    <tr>\n",
       "      <th>128974</th>\n",
       "      <td>128973</td>\n",
       "      <td>402-6184140-0545956</td>\n",
       "      <td>05-31-22</td>\n",
       "      <td>Shipped</td>\n",
       "      <td>Amazon</td>\n",
       "      <td>Amazon.in</td>\n",
       "      <td>Expedited</td>\n",
       "      <td>T-shirt</td>\n",
       "      <td>XS</td>\n",
       "      <td>Shipped</td>\n",
       "      <td>...</td>\n",
       "      <td>INR</td>\n",
       "      <td>1199.0</td>\n",
       "      <td>Halol</td>\n",
       "      <td>Gujarat</td>\n",
       "      <td>389350.0</td>\n",
       "      <td>IN</td>\n",
       "      <td>False</td>\n",
       "      <td>NaN</td>\n",
       "      <td>NaN</td>\n",
       "      <td>NaN</td>\n",
       "    </tr>\n",
       "    <tr>\n",
       "      <th>128975</th>\n",
       "      <td>128974</td>\n",
       "      <td>408-7436540-8728312</td>\n",
       "      <td>05-31-22</td>\n",
       "      <td>Shipped</td>\n",
       "      <td>Amazon</td>\n",
       "      <td>Amazon.in</td>\n",
       "      <td>Expedited</td>\n",
       "      <td>T-shirt</td>\n",
       "      <td>S</td>\n",
       "      <td>Shipped</td>\n",
       "      <td>...</td>\n",
       "      <td>INR</td>\n",
       "      <td>696.0</td>\n",
       "      <td>Raipur</td>\n",
       "      <td>CHHATTISGARH</td>\n",
       "      <td>492014.0</td>\n",
       "      <td>IN</td>\n",
       "      <td>False</td>\n",
       "      <td>NaN</td>\n",
       "      <td>NaN</td>\n",
       "      <td>NaN</td>\n",
       "    </tr>\n",
       "  </tbody>\n",
       "</table>\n",
       "<p>5 rows × 21 columns</p>\n",
       "</div>"
      ],
      "text/plain": [
       "         index             Order ID      Date   Status Fulfilment  \\\n",
       "128971  128970  406-6001380-7673107  05-31-22  Shipped     Amazon   \n",
       "128972  128971  402-9551604-7544318  05-31-22  Shipped     Amazon   \n",
       "128973  128972  407-9547469-3152358  05-31-22  Shipped     Amazon   \n",
       "128974  128973  402-6184140-0545956  05-31-22  Shipped     Amazon   \n",
       "128975  128974  408-7436540-8728312  05-31-22  Shipped     Amazon   \n",
       "\n",
       "       Sales Channel ship-service-level Category Size Courier Status  ...  \\\n",
       "128971     Amazon.in          Expedited    Shirt   XL        Shipped  ...   \n",
       "128972     Amazon.in          Expedited  T-shirt    M        Shipped  ...   \n",
       "128973     Amazon.in          Expedited  Blazzer  XXL        Shipped  ...   \n",
       "128974     Amazon.in          Expedited  T-shirt   XS        Shipped  ...   \n",
       "128975     Amazon.in          Expedited  T-shirt    S        Shipped  ...   \n",
       "\n",
       "        currency  Amount  ship-city    ship-state ship-postal-code  \\\n",
       "128971       INR   517.0  HYDERABAD     TELANGANA         500013.0   \n",
       "128972       INR   999.0   GURUGRAM       HARYANA         122004.0   \n",
       "128973       INR   690.0  HYDERABAD     TELANGANA         500049.0   \n",
       "128974       INR  1199.0      Halol       Gujarat         389350.0   \n",
       "128975       INR   696.0     Raipur  CHHATTISGARH         492014.0   \n",
       "\n",
       "        ship-country    B2B  fulfilled-by New  PendingS  \n",
       "128971            IN  False           NaN NaN       NaN  \n",
       "128972            IN  False           NaN NaN       NaN  \n",
       "128973            IN  False           NaN NaN       NaN  \n",
       "128974            IN  False           NaN NaN       NaN  \n",
       "128975            IN  False           NaN NaN       NaN  \n",
       "\n",
       "[5 rows x 21 columns]"
      ]
     },
     "execution_count": 4,
     "metadata": {},
     "output_type": "execute_result"
    }
   ],
   "source": [
    "#The last few rows of the dataframe\n",
    "df.tail()"
   ]
  },
  {
   "cell_type": "code",
   "execution_count": 5,
   "id": "fccce544",
   "metadata": {},
   "outputs": [
    {
     "data": {
      "text/html": [
       "<div>\n",
       "<style scoped>\n",
       "    .dataframe tbody tr th:only-of-type {\n",
       "        vertical-align: middle;\n",
       "    }\n",
       "\n",
       "    .dataframe tbody tr th {\n",
       "        vertical-align: top;\n",
       "    }\n",
       "\n",
       "    .dataframe thead th {\n",
       "        text-align: right;\n",
       "    }\n",
       "</style>\n",
       "<table border=\"1\" class=\"dataframe\">\n",
       "  <thead>\n",
       "    <tr style=\"text-align: right;\">\n",
       "      <th></th>\n",
       "      <th>index</th>\n",
       "      <th>Order ID</th>\n",
       "      <th>Date</th>\n",
       "      <th>Status</th>\n",
       "      <th>Fulfilment</th>\n",
       "      <th>Sales Channel</th>\n",
       "      <th>ship-service-level</th>\n",
       "      <th>Category</th>\n",
       "      <th>Size</th>\n",
       "      <th>Courier Status</th>\n",
       "      <th>...</th>\n",
       "      <th>currency</th>\n",
       "      <th>Amount</th>\n",
       "      <th>ship-city</th>\n",
       "      <th>ship-state</th>\n",
       "      <th>ship-postal-code</th>\n",
       "      <th>ship-country</th>\n",
       "      <th>B2B</th>\n",
       "      <th>fulfilled-by</th>\n",
       "      <th>New</th>\n",
       "      <th>PendingS</th>\n",
       "    </tr>\n",
       "  </thead>\n",
       "  <tbody>\n",
       "    <tr>\n",
       "      <th>103336</th>\n",
       "      <td>103335</td>\n",
       "      <td>405-4484081-4134732</td>\n",
       "      <td>06-19-22</td>\n",
       "      <td>Cancelled</td>\n",
       "      <td>Amazon</td>\n",
       "      <td>Amazon.in</td>\n",
       "      <td>Expedited</td>\n",
       "      <td>T-shirt</td>\n",
       "      <td>M</td>\n",
       "      <td>Cancelled</td>\n",
       "      <td>...</td>\n",
       "      <td>NaN</td>\n",
       "      <td>NaN</td>\n",
       "      <td>PALAKKAD</td>\n",
       "      <td>KERALA</td>\n",
       "      <td>679554.0</td>\n",
       "      <td>IN</td>\n",
       "      <td>False</td>\n",
       "      <td>NaN</td>\n",
       "      <td>NaN</td>\n",
       "      <td>NaN</td>\n",
       "    </tr>\n",
       "    <tr>\n",
       "      <th>47036</th>\n",
       "      <td>47035</td>\n",
       "      <td>407-9687102-1671541</td>\n",
       "      <td>04-02-2022</td>\n",
       "      <td>Shipped</td>\n",
       "      <td>Amazon</td>\n",
       "      <td>Amazon.in</td>\n",
       "      <td>Expedited</td>\n",
       "      <td>Shirt</td>\n",
       "      <td>M</td>\n",
       "      <td>Shipped</td>\n",
       "      <td>...</td>\n",
       "      <td>INR</td>\n",
       "      <td>453.0</td>\n",
       "      <td>KUNNAMKULAM</td>\n",
       "      <td>KERALA</td>\n",
       "      <td>680523.0</td>\n",
       "      <td>IN</td>\n",
       "      <td>False</td>\n",
       "      <td>NaN</td>\n",
       "      <td>NaN</td>\n",
       "      <td>NaN</td>\n",
       "    </tr>\n",
       "    <tr>\n",
       "      <th>126328</th>\n",
       "      <td>126327</td>\n",
       "      <td>408-4805667-6926748</td>\n",
       "      <td>06-02-2022</td>\n",
       "      <td>Shipped - Delivered to Buyer</td>\n",
       "      <td>Merchant</td>\n",
       "      <td>Amazon.in</td>\n",
       "      <td>Standard</td>\n",
       "      <td>T-shirt</td>\n",
       "      <td>M</td>\n",
       "      <td>Shipped</td>\n",
       "      <td>...</td>\n",
       "      <td>INR</td>\n",
       "      <td>899.0</td>\n",
       "      <td>KARAIKAL</td>\n",
       "      <td>PUDUCHERRY</td>\n",
       "      <td>609604.0</td>\n",
       "      <td>IN</td>\n",
       "      <td>False</td>\n",
       "      <td>Easy Ship</td>\n",
       "      <td>NaN</td>\n",
       "      <td>NaN</td>\n",
       "    </tr>\n",
       "  </tbody>\n",
       "</table>\n",
       "<p>3 rows × 21 columns</p>\n",
       "</div>"
      ],
      "text/plain": [
       "         index             Order ID        Date                        Status  \\\n",
       "103336  103335  405-4484081-4134732    06-19-22                     Cancelled   \n",
       "47036    47035  407-9687102-1671541  04-02-2022                       Shipped   \n",
       "126328  126327  408-4805667-6926748  06-02-2022  Shipped - Delivered to Buyer   \n",
       "\n",
       "       Fulfilment Sales Channel ship-service-level Category Size  \\\n",
       "103336     Amazon     Amazon.in          Expedited  T-shirt    M   \n",
       "47036      Amazon     Amazon.in          Expedited    Shirt    M   \n",
       "126328   Merchant     Amazon.in           Standard  T-shirt    M   \n",
       "\n",
       "       Courier Status  ...  currency Amount    ship-city  ship-state  \\\n",
       "103336      Cancelled  ...       NaN    NaN     PALAKKAD      KERALA   \n",
       "47036         Shipped  ...       INR  453.0  KUNNAMKULAM      KERALA   \n",
       "126328        Shipped  ...       INR  899.0     KARAIKAL  PUDUCHERRY   \n",
       "\n",
       "       ship-postal-code  ship-country    B2B  fulfilled-by New  PendingS  \n",
       "103336         679554.0            IN  False           NaN NaN       NaN  \n",
       "47036          680523.0            IN  False           NaN NaN       NaN  \n",
       "126328         609604.0            IN  False     Easy Ship NaN       NaN  \n",
       "\n",
       "[3 rows x 21 columns]"
      ]
     },
     "execution_count": 5,
     "metadata": {},
     "output_type": "execute_result"
    }
   ],
   "source": [
    "#Random sample of 3 rows from the dataframe\n",
    "df.sample(3)"
   ]
  },
  {
   "cell_type": "code",
   "execution_count": 6,
   "id": "322caca2",
   "metadata": {},
   "outputs": [
    {
     "data": {
      "text/plain": [
       "(128976, 21)"
      ]
     },
     "execution_count": 6,
     "metadata": {},
     "output_type": "execute_result"
    }
   ],
   "source": [
    "#Shape of the data\n",
    "df.shape"
   ]
  },
  {
   "cell_type": "code",
   "execution_count": 7,
   "id": "01ad2cdc",
   "metadata": {},
   "outputs": [
    {
     "data": {
      "text/plain": [
       "2708496"
      ]
     },
     "execution_count": 7,
     "metadata": {},
     "output_type": "execute_result"
    }
   ],
   "source": [
    "#Total size of the data\n",
    "df.size"
   ]
  },
  {
   "cell_type": "code",
   "execution_count": 8,
   "id": "85cf7f95",
   "metadata": {},
   "outputs": [
    {
     "name": "stdout",
     "output_type": "stream",
     "text": [
      "<class 'pandas.core.frame.DataFrame'>\n",
      "RangeIndex: 128976 entries, 0 to 128975\n",
      "Data columns (total 21 columns):\n",
      " #   Column              Non-Null Count   Dtype  \n",
      "---  ------              --------------   -----  \n",
      " 0   index               128976 non-null  int64  \n",
      " 1   Order ID            128976 non-null  object \n",
      " 2   Date                128976 non-null  object \n",
      " 3   Status              128976 non-null  object \n",
      " 4   Fulfilment          128976 non-null  object \n",
      " 5   Sales Channel       128976 non-null  object \n",
      " 6   ship-service-level  128976 non-null  object \n",
      " 7   Category            128976 non-null  object \n",
      " 8   Size                128976 non-null  object \n",
      " 9   Courier Status      128976 non-null  object \n",
      " 10  Qty                 128976 non-null  int64  \n",
      " 11  currency            121176 non-null  object \n",
      " 12  Amount              121176 non-null  float64\n",
      " 13  ship-city           128941 non-null  object \n",
      " 14  ship-state          128941 non-null  object \n",
      " 15  ship-postal-code    128941 non-null  float64\n",
      " 16  ship-country        128941 non-null  object \n",
      " 17  B2B                 128976 non-null  bool   \n",
      " 18  fulfilled-by        39263 non-null   object \n",
      " 19  New                 0 non-null       float64\n",
      " 20  PendingS            0 non-null       float64\n",
      "dtypes: bool(1), float64(4), int64(2), object(14)\n",
      "memory usage: 19.8+ MB\n"
     ]
    }
   ],
   "source": [
    "#Basic information about the data\n",
    "df.info()"
   ]
  },
  {
   "cell_type": "code",
   "execution_count": 9,
   "id": "eba6cdb1",
   "metadata": {},
   "outputs": [
    {
     "data": {
      "text/plain": [
       "index                 128808\n",
       "Order ID              120229\n",
       "Date                      91\n",
       "Status                    13\n",
       "Fulfilment                 2\n",
       "Sales Channel              2\n",
       "ship-service-level         2\n",
       "Category                   9\n",
       "Size                      11\n",
       "Courier Status             4\n",
       "Qty                       10\n",
       "currency                   1\n",
       "Amount                  1408\n",
       "ship-city               8948\n",
       "ship-state                69\n",
       "ship-postal-code        9454\n",
       "ship-country               1\n",
       "B2B                        2\n",
       "fulfilled-by               1\n",
       "New                        0\n",
       "PendingS                   0\n",
       "dtype: int64"
      ]
     },
     "execution_count": 9,
     "metadata": {},
     "output_type": "execute_result"
    }
   ],
   "source": [
    "#Checking number of uniqe values of each columns\n",
    "df.nunique()"
   ]
  },
  {
   "cell_type": "code",
   "execution_count": 10,
   "id": "f87990b5",
   "metadata": {},
   "outputs": [
    {
     "data": {
      "text/plain": [
       "array(['Cancelled', 'Shipped - Delivered to Buyer', 'Shipped',\n",
       "       'Shipped - Returned to Seller', 'Shipped - Rejected by Buyer',\n",
       "       'Shipped - Lost in Transit', 'Shipped - Out for Delivery',\n",
       "       'Shipped - Returning to Seller', 'Shipped - Picked Up', 'Pending',\n",
       "       'Pending - Waiting for Pick Up', 'Shipped - Damaged', 'Shipping'],\n",
       "      dtype=object)"
      ]
     },
     "execution_count": 10,
     "metadata": {},
     "output_type": "execute_result"
    }
   ],
   "source": [
    "df[\"Status\"].unique()"
   ]
  },
  {
   "cell_type": "code",
   "execution_count": 11,
   "id": "d3007aa7",
   "metadata": {},
   "outputs": [
    {
     "data": {
      "text/plain": [
       "array(['Merchant', 'Amazon'], dtype=object)"
      ]
     },
     "execution_count": 11,
     "metadata": {},
     "output_type": "execute_result"
    }
   ],
   "source": [
    "df[\"Fulfilment\"].unique()"
   ]
  },
  {
   "cell_type": "code",
   "execution_count": 12,
   "id": "64946016",
   "metadata": {},
   "outputs": [
    {
     "data": {
      "text/plain": [
       "array(['Amazon.in', 'Non-Amazon'], dtype=object)"
      ]
     },
     "execution_count": 12,
     "metadata": {},
     "output_type": "execute_result"
    }
   ],
   "source": [
    "df[\"Sales Channel\"].unique()"
   ]
  },
  {
   "cell_type": "code",
   "execution_count": 13,
   "id": "8a5fd529",
   "metadata": {},
   "outputs": [
    {
     "data": {
      "text/plain": [
       "array(['Standard', 'Expedited'], dtype=object)"
      ]
     },
     "execution_count": 13,
     "metadata": {},
     "output_type": "execute_result"
    }
   ],
   "source": [
    "df[\"ship-service-level\"].unique()"
   ]
  },
  {
   "cell_type": "code",
   "execution_count": 14,
   "id": "102a16dd",
   "metadata": {},
   "outputs": [
    {
     "data": {
      "text/plain": [
       "array(['T-shirt', 'Shirt', 'Blazzer', 'Trousers', 'Perfume', 'Socks',\n",
       "       'Shoes', 'Wallet', 'Watch'], dtype=object)"
      ]
     },
     "execution_count": 14,
     "metadata": {},
     "output_type": "execute_result"
    }
   ],
   "source": [
    "df[\"Category\"].unique()"
   ]
  },
  {
   "cell_type": "code",
   "execution_count": 15,
   "id": "dbc4f73d",
   "metadata": {},
   "outputs": [
    {
     "data": {
      "text/plain": [
       "array(['S', '3XL', 'XL', 'L', 'XXL', 'XS', '6XL', 'M', '4XL', 'Free',\n",
       "       '5XL'], dtype=object)"
      ]
     },
     "execution_count": 15,
     "metadata": {},
     "output_type": "execute_result"
    }
   ],
   "source": [
    "df[\"Size\"].unique()"
   ]
  },
  {
   "cell_type": "code",
   "execution_count": 16,
   "id": "782117d6",
   "metadata": {},
   "outputs": [
    {
     "data": {
      "text/plain": [
       "array(['MAHARASHTRA', 'KARNATAKA', 'PUDUCHERRY', 'TAMIL NADU',\n",
       "       'UTTAR PRADESH', 'CHANDIGARH', 'TELANGANA', 'ANDHRA PRADESH',\n",
       "       'RAJASTHAN', 'DELHI', 'HARYANA', 'ASSAM', 'JHARKHAND',\n",
       "       'CHHATTISGARH', 'ODISHA', 'KERALA', 'MADHYA PRADESH',\n",
       "       'WEST BENGAL', 'NAGALAND', 'Gujarat', 'UTTARAKHAND', 'BIHAR',\n",
       "       'JAMMU & KASHMIR', 'PUNJAB', 'HIMACHAL PRADESH',\n",
       "       'ARUNACHAL PRADESH', 'Goa', 'MEGHALAYA', 'GOA', 'MANIPUR',\n",
       "       'TRIPURA', 'LADAKH', 'DADRA AND NAGAR', 'SIKKIM', 'Delhi', nan,\n",
       "       'ANDAMAN & NICOBAR', 'Punjab', 'Rajshthan', 'Manipur', 'rajasthan',\n",
       "       'Odisha', 'NL', 'Bihar', 'MIZORAM', 'punjab', 'New Delhi',\n",
       "       'Rajasthan', 'Punjab/Mohali/Zirakpur', 'Puducherry', 'delhi', 'RJ',\n",
       "       'Chandigarh', 'orissa', 'LAKSHADWEEP', 'goa', 'PB', 'APO',\n",
       "       'Arunachal Pradesh', 'AR', 'Pondicherry', 'Sikkim',\n",
       "       'Arunachal pradesh', 'Nagaland', 'bihar', 'Mizoram', 'rajsthan',\n",
       "       'Orissa', 'Rajsthan', 'Meghalaya'], dtype=object)"
      ]
     },
     "execution_count": 16,
     "metadata": {},
     "output_type": "execute_result"
    }
   ],
   "source": [
    "df[\"ship-state\"].unique()"
   ]
  },
  {
   "cell_type": "code",
   "execution_count": 17,
   "id": "21fee390",
   "metadata": {},
   "outputs": [
    {
     "data": {
      "text/plain": [
       "array(['MUMBAI', 'BENGALURU', 'NAVI MUMBAI', ...,\n",
       "       'GULABPURA, Distt BHILWARA', 'Prayagraj (ALLAHABAD)', 'Halol'],\n",
       "      dtype=object)"
      ]
     },
     "execution_count": 17,
     "metadata": {},
     "output_type": "execute_result"
    }
   ],
   "source": [
    "df[\"ship-city\"].unique()"
   ]
  },
  {
   "cell_type": "code",
   "execution_count": 18,
   "id": "0fe0f252",
   "metadata": {},
   "outputs": [
    {
     "data": {
      "text/plain": [
       "array(['On the Way', 'Shipped', 'Cancelled', 'Unshipped'], dtype=object)"
      ]
     },
     "execution_count": 18,
     "metadata": {},
     "output_type": "execute_result"
    }
   ],
   "source": [
    "df[\"Courier Status\"].unique()"
   ]
  },
  {
   "cell_type": "code",
   "execution_count": 19,
   "id": "45e0c7c8",
   "metadata": {},
   "outputs": [
    {
     "data": {
      "text/plain": [
       "array([False,  True])"
      ]
     },
     "execution_count": 19,
     "metadata": {},
     "output_type": "execute_result"
    }
   ],
   "source": [
    "df[\"B2B\"].unique()"
   ]
  },
  {
   "cell_type": "code",
   "execution_count": 20,
   "id": "e6f5babc",
   "metadata": {},
   "outputs": [],
   "source": [
    "# Replace value\n",
    "replacement_dict = {\n",
    "    ('Goa', 'goa'): 'GOA',\n",
    "    ('Delhi', 'delhi', 'New Delhi'): 'DELHI',\n",
    "    ('Rajshthan', 'Rajasthan', 'Rajsthan', 'rajsthan', 'rajasthan', 'R3'): 'RAJASTHAN',\n",
    "    ('Punjab', 'punjab', 'Punjab/Mohali/Zirakpur', 'PB', 'Chandigarh', 'CHANDIGARH'): 'PUNJAB',\n",
    "    ('Manipur', 'manipur'): 'MANIPUR',\n",
    "    ('Odisha', 'orissa', 'Orissa'): 'ODISHA',\n",
    "    ('NL', 'Nagaland'): 'NAGALAND',\n",
    "    ('Bihar', 'bihar'): 'BIHAR',\n",
    "    ('Puducherry', 'Pondicherry', 'PUDUCHERRY'): 'TAMIL NADU',\n",
    "    ('Mizoram', 'mizoram'): 'MIZORAM',\n",
    "    ('Arunachal Pradesh', 'Arunachal pradesh', 'AR'): 'ARUNACHAL PRADESH',\n",
    "    ('APO',): 'ANDHRA PRADESH',\n",
    "    ('Meghalaya', 'meghalaya'): 'MEGHALAYA',\n",
    "    ('Sikkim', 'sikkim'): 'SIKKIM',\n",
    "    ('Gujarat', 'gujarat'): 'GUJARAT'\n",
    "}\n"
   ]
  },
  {
   "cell_type": "code",
   "execution_count": 21,
   "id": "aa2caee8",
   "metadata": {},
   "outputs": [],
   "source": [
    "def replace_multiple(df, column, replacements):\n",
    "    for keys, value in replacements.items():\n",
    "        if isinstance(keys, tuple):\n",
    "            df[column] = df[column].replace(keys, value)\n",
    "        else:\n",
    "            df[column] = df[column].replace(keys, value)\n",
    "    return df\n",
    "\n"
   ]
  },
  {
   "cell_type": "code",
   "execution_count": 22,
   "id": "45cc581c",
   "metadata": {},
   "outputs": [],
   "source": [
    "df = replace_multiple(df, 'ship-state', replacement_dict)\n"
   ]
  },
  {
   "cell_type": "code",
   "execution_count": 23,
   "id": "5ec5223e",
   "metadata": {},
   "outputs": [
    {
     "data": {
      "text/plain": [
       "array(['MAHARASHTRA', 'KARNATAKA', 'TAMIL NADU', 'UTTAR PRADESH',\n",
       "       'PUNJAB', 'TELANGANA', 'ANDHRA PRADESH', 'RAJASTHAN', 'DELHI',\n",
       "       'HARYANA', 'ASSAM', 'JHARKHAND', 'CHHATTISGARH', 'ODISHA',\n",
       "       'KERALA', 'MADHYA PRADESH', 'WEST BENGAL', 'NAGALAND', 'GUJARAT',\n",
       "       'UTTARAKHAND', 'BIHAR', 'JAMMU & KASHMIR', 'HIMACHAL PRADESH',\n",
       "       'ARUNACHAL PRADESH', 'GOA', 'MEGHALAYA', 'MANIPUR', 'TRIPURA',\n",
       "       'LADAKH', 'DADRA AND NAGAR', 'SIKKIM', nan, 'ANDAMAN & NICOBAR',\n",
       "       'MIZORAM', 'RJ', 'LAKSHADWEEP'], dtype=object)"
      ]
     },
     "execution_count": 23,
     "metadata": {},
     "output_type": "execute_result"
    }
   ],
   "source": [
    "df['ship-state'].unique()"
   ]
  },
  {
   "cell_type": "code",
   "execution_count": 24,
   "id": "ea84f4a3",
   "metadata": {},
   "outputs": [
    {
     "data": {
      "text/plain": [
       "index                   0.000000\n",
       "Order ID                0.000000\n",
       "Date                    0.000000\n",
       "Status                  0.000000\n",
       "Fulfilment              0.000000\n",
       "Sales Channel           0.000000\n",
       "ship-service-level      0.000000\n",
       "Category                0.000000\n",
       "Size                    0.000000\n",
       "Courier Status          0.000000\n",
       "Qty                     0.000000\n",
       "currency                6.047637\n",
       "Amount                  6.047637\n",
       "ship-city               0.027137\n",
       "ship-state              0.027137\n",
       "ship-postal-code        0.027137\n",
       "ship-country            0.027137\n",
       "B2B                     0.000000\n",
       "fulfilled-by           69.557902\n",
       "New                   100.000000\n",
       "PendingS              100.000000\n",
       "dtype: float64"
      ]
     },
     "execution_count": 24,
     "metadata": {},
     "output_type": "execute_result"
    }
   ],
   "source": [
    "#checking null values\n",
    "df.isna().sum()/len(df)*100"
   ]
  },
  {
   "cell_type": "markdown",
   "id": "67b5fc3e",
   "metadata": {},
   "source": [
    "# Handing missing values"
   ]
  },
  {
   "cell_type": "code",
   "execution_count": 25,
   "id": "7617a19e",
   "metadata": {},
   "outputs": [],
   "source": [
    "#Dropping the columns new,pendings,fullfilled_by,currency,ship_country\n",
    "#Dropping the columns new,pendings,fullfilled_by,currency,ship_country\n",
    "df.drop([\"New\", \"PendingS\", \"fulfilled-by\", \"currency\", \"ship_country\"], axis=1, inplace=True, errors='ignore')"
   ]
  },
  {
   "cell_type": "code",
   "execution_count": 26,
   "id": "eed2b9f9",
   "metadata": {},
   "outputs": [
    {
     "data": {
      "text/html": [
       "<div>\n",
       "<style scoped>\n",
       "    .dataframe tbody tr th:only-of-type {\n",
       "        vertical-align: middle;\n",
       "    }\n",
       "\n",
       "    .dataframe tbody tr th {\n",
       "        vertical-align: top;\n",
       "    }\n",
       "\n",
       "    .dataframe thead th {\n",
       "        text-align: right;\n",
       "    }\n",
       "</style>\n",
       "<table border=\"1\" class=\"dataframe\">\n",
       "  <thead>\n",
       "    <tr style=\"text-align: right;\">\n",
       "      <th></th>\n",
       "      <th>index</th>\n",
       "      <th>Order ID</th>\n",
       "      <th>Date</th>\n",
       "      <th>Status</th>\n",
       "      <th>Fulfilment</th>\n",
       "      <th>Sales Channel</th>\n",
       "      <th>ship-service-level</th>\n",
       "      <th>Category</th>\n",
       "      <th>Size</th>\n",
       "      <th>Courier Status</th>\n",
       "      <th>Qty</th>\n",
       "      <th>Amount</th>\n",
       "      <th>ship-city</th>\n",
       "      <th>ship-state</th>\n",
       "      <th>ship-postal-code</th>\n",
       "      <th>ship-country</th>\n",
       "      <th>B2B</th>\n",
       "    </tr>\n",
       "  </thead>\n",
       "  <tbody>\n",
       "    <tr>\n",
       "      <th>0</th>\n",
       "      <td>0</td>\n",
       "      <td>405-8078784-5731545</td>\n",
       "      <td>04-30-22</td>\n",
       "      <td>Cancelled</td>\n",
       "      <td>Merchant</td>\n",
       "      <td>Amazon.in</td>\n",
       "      <td>Standard</td>\n",
       "      <td>T-shirt</td>\n",
       "      <td>S</td>\n",
       "      <td>On the Way</td>\n",
       "      <td>0</td>\n",
       "      <td>647.62</td>\n",
       "      <td>MUMBAI</td>\n",
       "      <td>MAHARASHTRA</td>\n",
       "      <td>400081.0</td>\n",
       "      <td>IN</td>\n",
       "      <td>False</td>\n",
       "    </tr>\n",
       "    <tr>\n",
       "      <th>1</th>\n",
       "      <td>1</td>\n",
       "      <td>171-9198151-1101146</td>\n",
       "      <td>04-30-22</td>\n",
       "      <td>Shipped - Delivered to Buyer</td>\n",
       "      <td>Merchant</td>\n",
       "      <td>Amazon.in</td>\n",
       "      <td>Standard</td>\n",
       "      <td>Shirt</td>\n",
       "      <td>3XL</td>\n",
       "      <td>Shipped</td>\n",
       "      <td>1</td>\n",
       "      <td>406.00</td>\n",
       "      <td>BENGALURU</td>\n",
       "      <td>KARNATAKA</td>\n",
       "      <td>560085.0</td>\n",
       "      <td>IN</td>\n",
       "      <td>False</td>\n",
       "    </tr>\n",
       "    <tr>\n",
       "      <th>2</th>\n",
       "      <td>2</td>\n",
       "      <td>404-0687676-7273146</td>\n",
       "      <td>04-30-22</td>\n",
       "      <td>Shipped</td>\n",
       "      <td>Amazon</td>\n",
       "      <td>Amazon.in</td>\n",
       "      <td>Expedited</td>\n",
       "      <td>Shirt</td>\n",
       "      <td>XL</td>\n",
       "      <td>Shipped</td>\n",
       "      <td>1</td>\n",
       "      <td>329.00</td>\n",
       "      <td>NAVI MUMBAI</td>\n",
       "      <td>MAHARASHTRA</td>\n",
       "      <td>410210.0</td>\n",
       "      <td>IN</td>\n",
       "      <td>True</td>\n",
       "    </tr>\n",
       "    <tr>\n",
       "      <th>3</th>\n",
       "      <td>3</td>\n",
       "      <td>403-9615377-8133951</td>\n",
       "      <td>04-30-22</td>\n",
       "      <td>Cancelled</td>\n",
       "      <td>Merchant</td>\n",
       "      <td>Amazon.in</td>\n",
       "      <td>Standard</td>\n",
       "      <td>Blazzer</td>\n",
       "      <td>L</td>\n",
       "      <td>On the Way</td>\n",
       "      <td>0</td>\n",
       "      <td>753.33</td>\n",
       "      <td>PUDUCHERRY</td>\n",
       "      <td>TAMIL NADU</td>\n",
       "      <td>605008.0</td>\n",
       "      <td>IN</td>\n",
       "      <td>False</td>\n",
       "    </tr>\n",
       "    <tr>\n",
       "      <th>4</th>\n",
       "      <td>4</td>\n",
       "      <td>407-1069790-7240320</td>\n",
       "      <td>04-30-22</td>\n",
       "      <td>Shipped</td>\n",
       "      <td>Amazon</td>\n",
       "      <td>Amazon.in</td>\n",
       "      <td>Expedited</td>\n",
       "      <td>Trousers</td>\n",
       "      <td>3XL</td>\n",
       "      <td>Shipped</td>\n",
       "      <td>1</td>\n",
       "      <td>574.00</td>\n",
       "      <td>CHENNAI</td>\n",
       "      <td>TAMIL NADU</td>\n",
       "      <td>600073.0</td>\n",
       "      <td>IN</td>\n",
       "      <td>False</td>\n",
       "    </tr>\n",
       "  </tbody>\n",
       "</table>\n",
       "</div>"
      ],
      "text/plain": [
       "   index             Order ID      Date                        Status  \\\n",
       "0      0  405-8078784-5731545  04-30-22                     Cancelled   \n",
       "1      1  171-9198151-1101146  04-30-22  Shipped - Delivered to Buyer   \n",
       "2      2  404-0687676-7273146  04-30-22                       Shipped   \n",
       "3      3  403-9615377-8133951  04-30-22                     Cancelled   \n",
       "4      4  407-1069790-7240320  04-30-22                       Shipped   \n",
       "\n",
       "  Fulfilment Sales Channel ship-service-level  Category Size Courier Status  \\\n",
       "0   Merchant     Amazon.in           Standard   T-shirt    S     On the Way   \n",
       "1   Merchant     Amazon.in           Standard     Shirt  3XL        Shipped   \n",
       "2     Amazon     Amazon.in          Expedited     Shirt   XL        Shipped   \n",
       "3   Merchant     Amazon.in           Standard   Blazzer    L     On the Way   \n",
       "4     Amazon     Amazon.in          Expedited  Trousers  3XL        Shipped   \n",
       "\n",
       "   Qty  Amount    ship-city   ship-state  ship-postal-code ship-country    B2B  \n",
       "0    0  647.62       MUMBAI  MAHARASHTRA          400081.0           IN  False  \n",
       "1    1  406.00    BENGALURU    KARNATAKA          560085.0           IN  False  \n",
       "2    1  329.00  NAVI MUMBAI  MAHARASHTRA          410210.0           IN   True  \n",
       "3    0  753.33   PUDUCHERRY   TAMIL NADU          605008.0           IN  False  \n",
       "4    1  574.00      CHENNAI   TAMIL NADU          600073.0           IN  False  "
      ]
     },
     "execution_count": 26,
     "metadata": {},
     "output_type": "execute_result"
    }
   ],
   "source": [
    "df.head()"
   ]
  },
  {
   "cell_type": "code",
   "execution_count": 27,
   "id": "57c13b93",
   "metadata": {},
   "outputs": [],
   "source": [
    "#Replacing missing values of amount column with median\n",
    "df[\"Amount\"].fillna(df[\"Amount\"].median(),inplace=True)"
   ]
  },
  {
   "cell_type": "code",
   "execution_count": 28,
   "id": "24c0c229",
   "metadata": {},
   "outputs": [],
   "source": [
    "#dropping missing value row wise\n",
    "df.dropna(inplace=True)"
   ]
  },
  {
   "cell_type": "code",
   "execution_count": 29,
   "id": "1782c72f",
   "metadata": {},
   "outputs": [
    {
     "data": {
      "text/plain": [
       "index                 0.0\n",
       "Order ID              0.0\n",
       "Date                  0.0\n",
       "Status                0.0\n",
       "Fulfilment            0.0\n",
       "Sales Channel         0.0\n",
       "ship-service-level    0.0\n",
       "Category              0.0\n",
       "Size                  0.0\n",
       "Courier Status        0.0\n",
       "Qty                   0.0\n",
       "Amount                0.0\n",
       "ship-city             0.0\n",
       "ship-state            0.0\n",
       "ship-postal-code      0.0\n",
       "ship-country          0.0\n",
       "B2B                   0.0\n",
       "dtype: float64"
      ]
     },
     "execution_count": 29,
     "metadata": {},
     "output_type": "execute_result"
    }
   ],
   "source": [
    "df.isnull().mean()*100"
   ]
  },
  {
   "cell_type": "code",
   "execution_count": 30,
   "id": "3001d017",
   "metadata": {},
   "outputs": [
    {
     "data": {
      "text/plain": [
       "166"
      ]
     },
     "execution_count": 30,
     "metadata": {},
     "output_type": "execute_result"
    }
   ],
   "source": [
    "df.duplicated().sum()"
   ]
  },
  {
   "cell_type": "code",
   "execution_count": 31,
   "id": "5dbd4446",
   "metadata": {},
   "outputs": [
    {
     "data": {
      "text/plain": [
       "Index(['index', 'Order ID', 'Date', 'Status', 'Fulfilment', 'Sales Channel',\n",
       "       'ship-service-level', 'Category', 'Size', 'Courier Status', 'Qty',\n",
       "       'Amount', 'ship-city', 'ship-state', 'ship-postal-code', 'ship-country',\n",
       "       'B2B'],\n",
       "      dtype='object')"
      ]
     },
     "execution_count": 31,
     "metadata": {},
     "output_type": "execute_result"
    }
   ],
   "source": [
    "df.drop_duplicates(inplace=True)\n",
    "df.columns"
   ]
  },
  {
   "cell_type": "code",
   "execution_count": 32,
   "id": "a4900a54",
   "metadata": {},
   "outputs": [],
   "source": [
    "df['ship-postal-code'] = df['ship-postal-code'].astype('int')\n"
   ]
  },
  {
   "cell_type": "code",
   "execution_count": 33,
   "id": "aaf12293",
   "metadata": {},
   "outputs": [
    {
     "data": {
      "text/plain": [
       "dtype('int32')"
      ]
     },
     "execution_count": 33,
     "metadata": {},
     "output_type": "execute_result"
    }
   ],
   "source": [
    "df['ship-postal-code'].dtype"
   ]
  },
  {
   "cell_type": "code",
   "execution_count": 34,
   "id": "bb4b4c20",
   "metadata": {},
   "outputs": [],
   "source": [
    "df['Date']=pd.to_datetime(df['Date'],errors='coerce')"
   ]
  },
  {
   "cell_type": "code",
   "execution_count": 35,
   "id": "05ddf0c1",
   "metadata": {},
   "outputs": [],
   "source": [
    "df.rename(columns={\"Qty\":\"Quantity\"},inplace=True)"
   ]
  },
  {
   "cell_type": "code",
   "execution_count": 36,
   "id": "026b7bd9",
   "metadata": {},
   "outputs": [
    {
     "name": "stdout",
     "output_type": "stream",
     "text": [
      "<class 'pandas.core.frame.DataFrame'>\n",
      "Int64Index: 128775 entries, 0 to 128975\n",
      "Data columns (total 17 columns):\n",
      " #   Column              Non-Null Count   Dtype         \n",
      "---  ------              --------------   -----         \n",
      " 0   index               128775 non-null  int64         \n",
      " 1   Order ID            128775 non-null  object        \n",
      " 2   Date                128775 non-null  datetime64[ns]\n",
      " 3   Status              128775 non-null  object        \n",
      " 4   Fulfilment          128775 non-null  object        \n",
      " 5   Sales Channel       128775 non-null  object        \n",
      " 6   ship-service-level  128775 non-null  object        \n",
      " 7   Category            128775 non-null  object        \n",
      " 8   Size                128775 non-null  object        \n",
      " 9   Courier Status      128775 non-null  object        \n",
      " 10  Quantity            128775 non-null  int64         \n",
      " 11  Amount              128775 non-null  float64       \n",
      " 12  ship-city           128775 non-null  object        \n",
      " 13  ship-state          128775 non-null  object        \n",
      " 14  ship-postal-code    128775 non-null  int32         \n",
      " 15  ship-country        128775 non-null  object        \n",
      " 16  B2B                 128775 non-null  bool          \n",
      "dtypes: bool(1), datetime64[ns](1), float64(1), int32(1), int64(2), object(11)\n",
      "memory usage: 16.3+ MB\n"
     ]
    }
   ],
   "source": [
    "df.info()"
   ]
  },
  {
   "cell_type": "code",
   "execution_count": 37,
   "id": "62f31daa",
   "metadata": {},
   "outputs": [
    {
     "data": {
      "text/plain": [
       "Index(['index', 'Order ID', 'Date', 'Status', 'Fulfilment', 'Sales Channel',\n",
       "       'ship-service-level', 'Category', 'Size', 'Courier Status', 'Quantity',\n",
       "       'Amount', 'ship-city', 'ship-state', 'ship-postal-code', 'ship-country',\n",
       "       'B2B'],\n",
       "      dtype='object')"
      ]
     },
     "execution_count": 37,
     "metadata": {},
     "output_type": "execute_result"
    }
   ],
   "source": [
    "df.columns"
   ]
  },
  {
   "cell_type": "code",
   "execution_count": 38,
   "id": "5b019e86",
   "metadata": {},
   "outputs": [
    {
     "data": {
      "text/html": [
       "<div>\n",
       "<style scoped>\n",
       "    .dataframe tbody tr th:only-of-type {\n",
       "        vertical-align: middle;\n",
       "    }\n",
       "\n",
       "    .dataframe tbody tr th {\n",
       "        vertical-align: top;\n",
       "    }\n",
       "\n",
       "    .dataframe thead th {\n",
       "        text-align: right;\n",
       "    }\n",
       "</style>\n",
       "<table border=\"1\" class=\"dataframe\">\n",
       "  <thead>\n",
       "    <tr style=\"text-align: right;\">\n",
       "      <th></th>\n",
       "      <th>index</th>\n",
       "      <th>Quantity</th>\n",
       "      <th>Amount</th>\n",
       "      <th>ship-postal-code</th>\n",
       "    </tr>\n",
       "  </thead>\n",
       "  <tbody>\n",
       "    <tr>\n",
       "      <th>count</th>\n",
       "      <td>128775.000000</td>\n",
       "      <td>128775.000000</td>\n",
       "      <td>128775.000000</td>\n",
       "      <td>128775.00000</td>\n",
       "    </tr>\n",
       "    <tr>\n",
       "      <th>mean</th>\n",
       "      <td>64564.787948</td>\n",
       "      <td>0.904430</td>\n",
       "      <td>646.004662</td>\n",
       "      <td>463957.07107</td>\n",
       "    </tr>\n",
       "    <tr>\n",
       "      <th>std</th>\n",
       "      <td>37192.505842</td>\n",
       "      <td>0.313359</td>\n",
       "      <td>272.797676</td>\n",
       "      <td>191478.52940</td>\n",
       "    </tr>\n",
       "    <tr>\n",
       "      <th>min</th>\n",
       "      <td>0.000000</td>\n",
       "      <td>0.000000</td>\n",
       "      <td>0.000000</td>\n",
       "      <td>110001.00000</td>\n",
       "    </tr>\n",
       "    <tr>\n",
       "      <th>25%</th>\n",
       "      <td>32371.500000</td>\n",
       "      <td>1.000000</td>\n",
       "      <td>459.000000</td>\n",
       "      <td>382421.00000</td>\n",
       "    </tr>\n",
       "    <tr>\n",
       "      <th>50%</th>\n",
       "      <td>64569.000000</td>\n",
       "      <td>1.000000</td>\n",
       "      <td>605.000000</td>\n",
       "      <td>500033.00000</td>\n",
       "    </tr>\n",
       "    <tr>\n",
       "      <th>75%</th>\n",
       "      <td>96772.500000</td>\n",
       "      <td>1.000000</td>\n",
       "      <td>771.000000</td>\n",
       "      <td>600024.00000</td>\n",
       "    </tr>\n",
       "    <tr>\n",
       "      <th>max</th>\n",
       "      <td>128974.000000</td>\n",
       "      <td>15.000000</td>\n",
       "      <td>5584.000000</td>\n",
       "      <td>989898.00000</td>\n",
       "    </tr>\n",
       "  </tbody>\n",
       "</table>\n",
       "</div>"
      ],
      "text/plain": [
       "               index       Quantity         Amount  ship-postal-code\n",
       "count  128775.000000  128775.000000  128775.000000      128775.00000\n",
       "mean    64564.787948       0.904430     646.004662      463957.07107\n",
       "std     37192.505842       0.313359     272.797676      191478.52940\n",
       "min         0.000000       0.000000       0.000000      110001.00000\n",
       "25%     32371.500000       1.000000     459.000000      382421.00000\n",
       "50%     64569.000000       1.000000     605.000000      500033.00000\n",
       "75%     96772.500000       1.000000     771.000000      600024.00000\n",
       "max    128974.000000      15.000000    5584.000000      989898.00000"
      ]
     },
     "execution_count": 38,
     "metadata": {},
     "output_type": "execute_result"
    }
   ],
   "source": [
    "df.describe()"
   ]
  },
  {
   "cell_type": "markdown",
   "id": "fc1e891f",
   "metadata": {},
   "source": [
    "# Exploratory  Data   Analysis"
   ]
  },
  {
   "cell_type": "markdown",
   "id": "a28afb43",
   "metadata": {},
   "source": [
    "# Sales overview: understand the overall sales performance,trends and patterns over time"
   ]
  },
  {
   "cell_type": "code",
   "execution_count": 39,
   "id": "5f3166e1",
   "metadata": {},
   "outputs": [],
   "source": [
    "#extract week,year,month and day\n",
    "df['Week'] = df['Date'].dt.isocalendar().week\n",
    "df['Year'] = df['Date'].dt.year\n",
    "df['Day'] = df['Date'].dt.day\n",
    "df['Month'] = df['Date'].dt.month"
   ]
  },
  {
   "cell_type": "code",
   "execution_count": 40,
   "id": "72ead0dc",
   "metadata": {},
   "outputs": [],
   "source": [
    "#create a Total sales column\n",
    "df['Total Sales']=df['Amount']*df['Quantity']"
   ]
  },
  {
   "cell_type": "code",
   "execution_count": 41,
   "id": "1733671c",
   "metadata": {},
   "outputs": [],
   "source": [
    "df['Month']=df['Month'].replace({3:'March',4:'April',5:'May',6:'June'})"
   ]
  },
  {
   "cell_type": "code",
   "execution_count": 42,
   "id": "adfd2bc0",
   "metadata": {},
   "outputs": [],
   "source": [
    "import datetime\n",
    "def int_to_dayname(Day):\n",
    "    reference_date=datetime.date(2022,3,1)\n",
    "    actual_date=reference_date+datetime.timedelta(days=Day-1)\n",
    "    return actual_date.strftime('%A')"
   ]
  },
  {
   "cell_type": "code",
   "execution_count": 43,
   "id": "3fa86c0b",
   "metadata": {},
   "outputs": [],
   "source": [
    "df['Day_name']=df['Day'].apply(int_to_dayname)"
   ]
  },
  {
   "cell_type": "code",
   "execution_count": 44,
   "id": "f2dd1f58",
   "metadata": {},
   "outputs": [
    {
     "data": {
      "text/html": [
       "<div>\n",
       "<style scoped>\n",
       "    .dataframe tbody tr th:only-of-type {\n",
       "        vertical-align: middle;\n",
       "    }\n",
       "\n",
       "    .dataframe tbody tr th {\n",
       "        vertical-align: top;\n",
       "    }\n",
       "\n",
       "    .dataframe thead th {\n",
       "        text-align: right;\n",
       "    }\n",
       "</style>\n",
       "<table border=\"1\" class=\"dataframe\">\n",
       "  <thead>\n",
       "    <tr style=\"text-align: right;\">\n",
       "      <th></th>\n",
       "      <th>index</th>\n",
       "      <th>Order ID</th>\n",
       "      <th>Date</th>\n",
       "      <th>Status</th>\n",
       "      <th>Fulfilment</th>\n",
       "      <th>Sales Channel</th>\n",
       "      <th>ship-service-level</th>\n",
       "      <th>Category</th>\n",
       "      <th>Size</th>\n",
       "      <th>Courier Status</th>\n",
       "      <th>...</th>\n",
       "      <th>ship-postal-code</th>\n",
       "      <th>ship-country</th>\n",
       "      <th>B2B</th>\n",
       "      <th>Week</th>\n",
       "      <th>Year</th>\n",
       "      <th>Day</th>\n",
       "      <th>Month</th>\n",
       "      <th>Total Sales</th>\n",
       "      <th>Day_name</th>\n",
       "      <th>Total Sales in Million</th>\n",
       "    </tr>\n",
       "  </thead>\n",
       "  <tbody>\n",
       "    <tr>\n",
       "      <th>0</th>\n",
       "      <td>0</td>\n",
       "      <td>405-8078784-5731545</td>\n",
       "      <td>2022-04-30</td>\n",
       "      <td>Cancelled</td>\n",
       "      <td>Merchant</td>\n",
       "      <td>Amazon.in</td>\n",
       "      <td>Standard</td>\n",
       "      <td>T-shirt</td>\n",
       "      <td>S</td>\n",
       "      <td>On the Way</td>\n",
       "      <td>...</td>\n",
       "      <td>400081</td>\n",
       "      <td>IN</td>\n",
       "      <td>False</td>\n",
       "      <td>17</td>\n",
       "      <td>2022</td>\n",
       "      <td>30</td>\n",
       "      <td>April</td>\n",
       "      <td>0.0</td>\n",
       "      <td>Wednesday</td>\n",
       "      <td>0.000000</td>\n",
       "    </tr>\n",
       "    <tr>\n",
       "      <th>1</th>\n",
       "      <td>1</td>\n",
       "      <td>171-9198151-1101146</td>\n",
       "      <td>2022-04-30</td>\n",
       "      <td>Shipped - Delivered to Buyer</td>\n",
       "      <td>Merchant</td>\n",
       "      <td>Amazon.in</td>\n",
       "      <td>Standard</td>\n",
       "      <td>Shirt</td>\n",
       "      <td>3XL</td>\n",
       "      <td>Shipped</td>\n",
       "      <td>...</td>\n",
       "      <td>560085</td>\n",
       "      <td>IN</td>\n",
       "      <td>False</td>\n",
       "      <td>17</td>\n",
       "      <td>2022</td>\n",
       "      <td>30</td>\n",
       "      <td>April</td>\n",
       "      <td>406.0</td>\n",
       "      <td>Wednesday</td>\n",
       "      <td>0.000406</td>\n",
       "    </tr>\n",
       "    <tr>\n",
       "      <th>2</th>\n",
       "      <td>2</td>\n",
       "      <td>404-0687676-7273146</td>\n",
       "      <td>2022-04-30</td>\n",
       "      <td>Shipped</td>\n",
       "      <td>Amazon</td>\n",
       "      <td>Amazon.in</td>\n",
       "      <td>Expedited</td>\n",
       "      <td>Shirt</td>\n",
       "      <td>XL</td>\n",
       "      <td>Shipped</td>\n",
       "      <td>...</td>\n",
       "      <td>410210</td>\n",
       "      <td>IN</td>\n",
       "      <td>True</td>\n",
       "      <td>17</td>\n",
       "      <td>2022</td>\n",
       "      <td>30</td>\n",
       "      <td>April</td>\n",
       "      <td>329.0</td>\n",
       "      <td>Wednesday</td>\n",
       "      <td>0.000329</td>\n",
       "    </tr>\n",
       "    <tr>\n",
       "      <th>3</th>\n",
       "      <td>3</td>\n",
       "      <td>403-9615377-8133951</td>\n",
       "      <td>2022-04-30</td>\n",
       "      <td>Cancelled</td>\n",
       "      <td>Merchant</td>\n",
       "      <td>Amazon.in</td>\n",
       "      <td>Standard</td>\n",
       "      <td>Blazzer</td>\n",
       "      <td>L</td>\n",
       "      <td>On the Way</td>\n",
       "      <td>...</td>\n",
       "      <td>605008</td>\n",
       "      <td>IN</td>\n",
       "      <td>False</td>\n",
       "      <td>17</td>\n",
       "      <td>2022</td>\n",
       "      <td>30</td>\n",
       "      <td>April</td>\n",
       "      <td>0.0</td>\n",
       "      <td>Wednesday</td>\n",
       "      <td>0.000000</td>\n",
       "    </tr>\n",
       "    <tr>\n",
       "      <th>4</th>\n",
       "      <td>4</td>\n",
       "      <td>407-1069790-7240320</td>\n",
       "      <td>2022-04-30</td>\n",
       "      <td>Shipped</td>\n",
       "      <td>Amazon</td>\n",
       "      <td>Amazon.in</td>\n",
       "      <td>Expedited</td>\n",
       "      <td>Trousers</td>\n",
       "      <td>3XL</td>\n",
       "      <td>Shipped</td>\n",
       "      <td>...</td>\n",
       "      <td>600073</td>\n",
       "      <td>IN</td>\n",
       "      <td>False</td>\n",
       "      <td>17</td>\n",
       "      <td>2022</td>\n",
       "      <td>30</td>\n",
       "      <td>April</td>\n",
       "      <td>574.0</td>\n",
       "      <td>Wednesday</td>\n",
       "      <td>0.000574</td>\n",
       "    </tr>\n",
       "  </tbody>\n",
       "</table>\n",
       "<p>5 rows × 24 columns</p>\n",
       "</div>"
      ],
      "text/plain": [
       "   index             Order ID       Date                        Status  \\\n",
       "0      0  405-8078784-5731545 2022-04-30                     Cancelled   \n",
       "1      1  171-9198151-1101146 2022-04-30  Shipped - Delivered to Buyer   \n",
       "2      2  404-0687676-7273146 2022-04-30                       Shipped   \n",
       "3      3  403-9615377-8133951 2022-04-30                     Cancelled   \n",
       "4      4  407-1069790-7240320 2022-04-30                       Shipped   \n",
       "\n",
       "  Fulfilment Sales Channel ship-service-level  Category Size Courier Status  \\\n",
       "0   Merchant     Amazon.in           Standard   T-shirt    S     On the Way   \n",
       "1   Merchant     Amazon.in           Standard     Shirt  3XL        Shipped   \n",
       "2     Amazon     Amazon.in          Expedited     Shirt   XL        Shipped   \n",
       "3   Merchant     Amazon.in           Standard   Blazzer    L     On the Way   \n",
       "4     Amazon     Amazon.in          Expedited  Trousers  3XL        Shipped   \n",
       "\n",
       "   ...  ship-postal-code  ship-country    B2B Week  Year Day  Month  \\\n",
       "0  ...            400081            IN  False   17  2022  30  April   \n",
       "1  ...            560085            IN  False   17  2022  30  April   \n",
       "2  ...            410210            IN   True   17  2022  30  April   \n",
       "3  ...            605008            IN  False   17  2022  30  April   \n",
       "4  ...            600073            IN  False   17  2022  30  April   \n",
       "\n",
       "   Total Sales   Day_name  Total Sales in Million  \n",
       "0          0.0  Wednesday                0.000000  \n",
       "1        406.0  Wednesday                0.000406  \n",
       "2        329.0  Wednesday                0.000329  \n",
       "3          0.0  Wednesday                0.000000  \n",
       "4        574.0  Wednesday                0.000574  \n",
       "\n",
       "[5 rows x 24 columns]"
      ]
     },
     "execution_count": 44,
     "metadata": {},
     "output_type": "execute_result"
    }
   ],
   "source": [
    "df['Total Sales in Million']=df['Total Sales']/1000000\n",
    "df.head()"
   ]
  },
  {
   "cell_type": "code",
   "execution_count": 45,
   "id": "c7997c85",
   "metadata": {},
   "outputs": [],
   "source": [
    "daily_sales= df.groupby('Date') ['Total Sales in Million'].sum().reset_index()"
   ]
  },
  {
   "cell_type": "code",
   "execution_count": 46,
   "id": "73acda68",
   "metadata": {},
   "outputs": [
    {
     "data": {
      "image/png": "[encoded data removed]",
      "text/plain": [
       "<Figure size 1800x600 with 2 Axes>"
      ]
     },
     "metadata": {},
     "output_type": "display_data"
    }
   ],
   "source": [
    "import matplotlib.pyplot as plt\n",
    "import seaborn as sns\n",
    "\n",
    "plt.figure(figsize=(18, 6))\n",
    "\n",
    "sns.set(style=\"white\")\n",
    "\n",
    "# Plotting Total Sales Over Time\n",
    "plt.subplot(2, 1, 1)\n",
    "sns.lineplot(data=df, x='Date', y='Total Sales in Million', ci=None)\n",
    "plt.title(\"Total Sales Over Time\", fontsize=15)\n",
    "plt.xlabel('Date', fontsize=12)\n",
    "plt.ylabel(\"Total Sales\", fontsize=12)\n",
    "\n",
    "# Plotting Daily Sales Trend\n",
    "plt.subplot(2, 1, 2)\n",
    "sns.lineplot(data=daily_sales, x='Date', y='Total Sales in Million', color=\"green\")\n",
    "plt.title(\"Daily Sales Trend\", fontsize=15)\n",
    "plt.xlabel('Date', fontsize=12)\n",
    "plt.ylabel(\"Total Sales\", fontsize=12)\n",
    "\n",
    "plt.tight_layout()\n",
    "plt.show()\n"
   ]
  },
  {
   "cell_type": "markdown",
   "id": "5b14ad71",
   "metadata": {},
   "source": [
    "# Monthly Sales trend"
   ]
  },
  {
   "cell_type": "code",
   "execution_count": 47,
   "id": "93de7619",
   "metadata": {},
   "outputs": [],
   "source": [
    "monthly_sales=df.groupby('Month')['Total Sales in Million'].sum().reset_index()"
   ]
  },
  {
   "cell_type": "code",
   "execution_count": 48,
   "id": "f07cd4f4",
   "metadata": {},
   "outputs": [
    {
     "data": {
      "text/html": [
       "<div>\n",
       "<style scoped>\n",
       "    .dataframe tbody tr th:only-of-type {\n",
       "        vertical-align: middle;\n",
       "    }\n",
       "\n",
       "    .dataframe tbody tr th {\n",
       "        vertical-align: top;\n",
       "    }\n",
       "\n",
       "    .dataframe thead th {\n",
       "        text-align: right;\n",
       "    }\n",
       "</style>\n",
       "<table border=\"1\" class=\"dataframe\">\n",
       "  <thead>\n",
       "    <tr style=\"text-align: right;\">\n",
       "      <th></th>\n",
       "      <th>Month</th>\n",
       "      <th>Total Sales in Million</th>\n",
       "    </tr>\n",
       "  </thead>\n",
       "  <tbody>\n",
       "    <tr>\n",
       "      <th>0</th>\n",
       "      <td>April</td>\n",
       "      <td>27.805861</td>\n",
       "    </tr>\n",
       "    <tr>\n",
       "      <th>1</th>\n",
       "      <td>June</td>\n",
       "      <td>22.776386</td>\n",
       "    </tr>\n",
       "    <tr>\n",
       "      <th>2</th>\n",
       "      <td>March</td>\n",
       "      <td>0.098261</td>\n",
       "    </tr>\n",
       "    <tr>\n",
       "      <th>3</th>\n",
       "      <td>May</td>\n",
       "      <td>25.344862</td>\n",
       "    </tr>\n",
       "  </tbody>\n",
       "</table>\n",
       "</div>"
      ],
      "text/plain": [
       "   Month  Total Sales in Million\n",
       "0  April               27.805861\n",
       "1   June               22.776386\n",
       "2  March                0.098261\n",
       "3    May               25.344862"
      ]
     },
     "execution_count": 48,
     "metadata": {},
     "output_type": "execute_result"
    }
   ],
   "source": [
    "monthly_sales"
   ]
  },
  {
   "cell_type": "code",
   "execution_count": 81,
   "id": "0586a0ea",
   "metadata": {},
   "outputs": [
    {
     "data": {
      "image/png": "[encoded data removed]",
      "text/plain": [
       "<Figure size 1000x400 with 1 Axes>"
      ]
     },
     "metadata": {},
     "output_type": "display_data"
    }
   ],
   "source": [
    "plt.figure(figsize=(10, 4))\n",
    "sns.set(style=\"white\")\n",
    "\n",
    "sns.lineplot(x='Month', y='Total Sales in Million', data=monthly_sales, color='purple', marker='o')\n",
    "\n",
    "plt.title('Monthly Sales Trend', fontsize=15)\n",
    "plt.xlabel('Month', fontsize=12)\n",
    "plt.ylabel('Total Sales', fontsize=12)\n",
    "plt.show()\n"
   ]
  },
  {
   "cell_type": "code",
   "execution_count": null,
   "id": "dc33aedb",
   "metadata": {},
   "outputs": [],
   "source": [
    "import matplotlib.pyplot as plt\n",
    "import seaborn as sns\n",
    "\n",
    "plt.figure(figsize=(10, 4))\n",
    "sns.set(style='white')\n",
    "\n",
    "# Plotting Monthly Sales Trend\n",
    "sns.lineplot(x='Month', y='Total Sales in Million', data=monthly_sales, color='purple', marker='o')\n",
    "\n",
    "plt.title('Monthly Sales Trend', fontsize=15)\n",
    "plt.xlabel('Month', fontsize=12)\n",
    "plt.ylabel('Total Sales', fontsize=12)\n",
    "\n",
    "plt.show()\n"
   ]
  },
  {
   "cell_type": "markdown",
   "id": "af8f141f",
   "metadata": {},
   "source": [
    "# Weekly sales trend and sales by day of the week"
   ]
  },
  {
   "cell_type": "code",
   "execution_count": null,
   "id": "6f3e97b5",
   "metadata": {},
   "outputs": [],
   "source": [
    "weekly_sales=df.groupby('Week')['Total Sales in Million'].sum().reset_index().sort_values('Total Sales in Million',ascending=False)\n",
    "weekly_sales"
   ]
  },
  {
   "cell_type": "code",
   "execution_count": null,
   "id": "5190598b",
   "metadata": {},
   "outputs": [],
   "source": [
    "plt.figure(figsize=(12,4)) \n",
    "sns.set(style='darkgrid')\n",
    "\n",
    "plt.subplot(1,2,1)\n",
    "\n",
    "sns.barplot(x='Week', y='Total Sales in Million', data=weekly_sales, palette='summer')\n",
    "\n",
    "plt.title('Weekly Sales Trend', fontsize=15)\n",
    "\n",
    "plt.xlabel('Week', fontsize=12) \n",
    "\n",
    "plt.ylabel('Total Sales in Million', fontsize=12)\n",
    "sns.set(style=\"darkgrid\")\n",
    "\n",
    "plt.subplot(1,2,2)\n",
    "\n",
    "sns.barplot(x='Day name', y='Total Sales in Million', data=weekday_sales, palette='copper') \n",
    "plt.title('Sales by Day of the Week', fontsize=15)\n",
    "\n",
    "plt.xlabel('Day of the Week', fontsize=12)\n",
    "\n",
    "plt.ylabel('Total Sales in Million', fontsize=12)\n",
    "\n",
    "plt.tight_layout()\n",
    "\n",
    "plt.show()"
   ]
  },
  {
   "cell_type": "markdown",
   "id": "c513d2a6",
   "metadata": {},
   "source": [
    "# Analyze product category distribution"
   ]
  },
  {
   "cell_type": "code",
   "execution_count": null,
   "id": "46c2ecf6",
   "metadata": {},
   "outputs": [],
   "source": [
    "category_dist=df['Category'].value_counts()\n",
    "category_dist"
   ]
  },
  {
   "cell_type": "markdown",
   "id": "dc02c951",
   "metadata": {},
   "source": [
    "# Product size distribution"
   ]
  },
  {
   "cell_type": "code",
   "execution_count": 50,
   "id": "2eb8ac1b",
   "metadata": {},
   "outputs": [
    {
     "data": {
      "text/plain": [
       "M       22343\n",
       "L       21768\n",
       "XL      20516\n",
       "XXL     17780\n",
       "S       16748\n",
       "3XL     14625\n",
       "XS      11032\n",
       "Free     2250\n",
       "6XL       738\n",
       "5XL       550\n",
       "4XL       425\n",
       "Name: Size, dtype: int64"
      ]
     },
     "execution_count": 50,
     "metadata": {},
     "output_type": "execute_result"
    }
   ],
   "source": [
    "size_counts=df['Size'].value_counts()\n",
    "size_counts"
   ]
  },
  {
   "cell_type": "markdown",
   "id": "f6f3ca65",
   "metadata": {},
   "source": [
    "# Popular product by category and size"
   ]
  },
  {
   "cell_type": "code",
   "execution_count": 51,
   "id": "bbfd8c75",
   "metadata": {},
   "outputs": [
    {
     "data": {
      "text/html": [
       "<div>\n",
       "<style scoped>\n",
       "    .dataframe tbody tr th:only-of-type {\n",
       "        vertical-align: middle;\n",
       "    }\n",
       "\n",
       "    .dataframe tbody tr th {\n",
       "        vertical-align: top;\n",
       "    }\n",
       "\n",
       "    .dataframe thead th {\n",
       "        text-align: right;\n",
       "    }\n",
       "</style>\n",
       "<table border=\"1\" class=\"dataframe\">\n",
       "  <thead>\n",
       "    <tr style=\"text-align: right;\">\n",
       "      <th></th>\n",
       "      <th>Category</th>\n",
       "      <th>Size</th>\n",
       "      <th>Quantity</th>\n",
       "    </tr>\n",
       "  </thead>\n",
       "  <tbody>\n",
       "    <tr>\n",
       "      <th>31</th>\n",
       "      <td>T-shirt</td>\n",
       "      <td>M</td>\n",
       "      <td>8346</td>\n",
       "    </tr>\n",
       "    <tr>\n",
       "      <th>12</th>\n",
       "      <td>Shirt</td>\n",
       "      <td>L</td>\n",
       "      <td>8031</td>\n",
       "    </tr>\n",
       "    <tr>\n",
       "      <th>15</th>\n",
       "      <td>Shirt</td>\n",
       "      <td>XL</td>\n",
       "      <td>7825</td>\n",
       "    </tr>\n",
       "    <tr>\n",
       "      <th>13</th>\n",
       "      <td>Shirt</td>\n",
       "      <td>M</td>\n",
       "      <td>7699</td>\n",
       "    </tr>\n",
       "    <tr>\n",
       "      <th>30</th>\n",
       "      <td>T-shirt</td>\n",
       "      <td>L</td>\n",
       "      <td>7385</td>\n",
       "    </tr>\n",
       "  </tbody>\n",
       "</table>\n",
       "</div>"
      ],
      "text/plain": [
       "   Category Size  Quantity\n",
       "31  T-shirt    M      8346\n",
       "12    Shirt    L      8031\n",
       "15    Shirt   XL      7825\n",
       "13    Shirt    M      7699\n",
       "30  T-shirt    L      7385"
      ]
     },
     "execution_count": 51,
     "metadata": {},
     "output_type": "execute_result"
    }
   ],
   "source": [
    "quantity_sold=df.groupby(['Category','Size'])['Quantity'].sum().reset_index()\n",
    "popular_product=quantity_sold.nlargest(5,'Quantity')\n",
    "popular_product\n"
   ]
  },
  {
   "cell_type": "code",
   "execution_count": 52,
   "id": "4d0ead4f",
   "metadata": {},
   "outputs": [
    {
     "data": {
      "text/plain": [
       "([0, 1, 2, 3, 4, 5, 6, 7, 8],\n",
       " [Text(0, 0, 'T-shirt'),\n",
       "  Text(1, 0, 'Shirt'),\n",
       "  Text(2, 0, 'Blazzer'),\n",
       "  Text(3, 0, 'Trousers'),\n",
       "  Text(4, 0, 'Perfume'),\n",
       "  Text(5, 0, 'Socks'),\n",
       "  Text(6, 0, 'Shoes'),\n",
       "  Text(7, 0, 'Wallet'),\n",
       "  Text(8, 0, 'Watch')])"
      ]
     },
     "execution_count": 52,
     "metadata": {},
     "output_type": "execute_result"
    },
    {
     "data": {
      "image/png": "[encoded data removed]",
      "text/plain": [
       "<Figure size 1000x700 with 1 Axes>"
      ]
     },
     "metadata": {},
     "output_type": "display_data"
    }
   ],
   "source": [
    "plt.figure(figsize=(10,7))\n",
    "sns.set(style='white')\n",
    "\n",
    "plt.subplot(2,2,1)\n",
    "\n",
    "sns.histplot(x='Category',data=df,color='orange')\n",
    "\n",
    "plt.title('Product Category Distribution', fontsize=14)\n",
    "\n",
    "plt.xlabel(\"Category\", fontsize=12)\n",
    "\n",
    "plt.ylabel(\"Count\", fontsize=12)\n",
    "\n",
    "plt.xticks(rotation=45, ha='right')\n",
    "\n",
    "\n"
   ]
  },
  {
   "cell_type": "code",
   "execution_count": 53,
   "id": "9db21596",
   "metadata": {},
   "outputs": [
    {
     "data": {
      "text/plain": [
       "(array([ 0,  1,  2,  3,  4,  5,  6,  7,  8,  9, 10]),\n",
       " [Text(0, 0, 'S'),\n",
       "  Text(1, 0, '3XL'),\n",
       "  Text(2, 0, 'XL'),\n",
       "  Text(3, 0, 'L'),\n",
       "  Text(4, 0, 'XXL'),\n",
       "  Text(5, 0, 'XS'),\n",
       "  Text(6, 0, '6XL'),\n",
       "  Text(7, 0, 'M'),\n",
       "  Text(8, 0, '4XL'),\n",
       "  Text(9, 0, 'Free'),\n",
       "  Text(10, 0, '5XL')])"
      ]
     },
     "execution_count": 53,
     "metadata": {},
     "output_type": "execute_result"
    },
    {
     "data": {
      "image/png": "[encoded data removed]",
      "text/plain": [
       "<Figure size 640x480 with 1 Axes>"
      ]
     },
     "metadata": {},
     "output_type": "display_data"
    }
   ],
   "source": [
    "plt.subplot(2,2,2)\n",
    "\n",
    "sns.countplot(x='Size',data=df, palette='Purples_d')\n",
    "\n",
    "plt.title('Size Distribution', fontsize=14)\n",
    "\n",
    "plt.xlabel(\"Size\", fontsize=12)\n",
    "plt.ylabel(\"Count\", fontsize=12)\n",
    "\n",
    "plt.xticks(rotation=45, ha='right')\n",
    "\n",
    "\n",
    "\n"
   ]
  },
  {
   "cell_type": "code",
   "execution_count": 54,
   "id": "1c6ab725",
   "metadata": {},
   "outputs": [
    {
     "data": {
      "image/png": "[encoded data removed]",
      "text/plain": [
       "<Figure size 640x480 with 1 Axes>"
      ]
     },
     "metadata": {},
     "output_type": "display_data"
    }
   ],
   "source": [
    "plt.subplot(2,2,3)\n",
    "\n",
    "sns.barplot(x='Category', y='Quantity', data=popular_product, hue='Size', palette='RdPu', saturation=0.9)\n",
    "plt.title('Popular Products by Category, Size and Quantity', fontsize=14)\n",
    "\n",
    "plt.xlabel(\"Category\", fontsize=12)\n",
    "\n",
    "plt.ylabel(\"Quantity\", fontsize=12)\n",
    "plt.xticks(rotation=45, ha='right')\n",
    "\n",
    "plt.tight_layout()\n",
    "\n",
    "plt.show()"
   ]
  },
  {
   "cell_type": "markdown",
   "id": "503a2038",
   "metadata": {},
   "source": [
    "# distribution of fulfillment"
   ]
  },
  {
   "cell_type": "code",
   "execution_count": 55,
   "id": "4c5bd34c",
   "metadata": {},
   "outputs": [
    {
     "data": {
      "text/html": [
       "<div>\n",
       "<style scoped>\n",
       "    .dataframe tbody tr th:only-of-type {\n",
       "        vertical-align: middle;\n",
       "    }\n",
       "\n",
       "    .dataframe tbody tr th {\n",
       "        vertical-align: top;\n",
       "    }\n",
       "\n",
       "    .dataframe thead th {\n",
       "        text-align: right;\n",
       "    }\n",
       "</style>\n",
       "<table border=\"1\" class=\"dataframe\">\n",
       "  <thead>\n",
       "    <tr style=\"text-align: right;\">\n",
       "      <th></th>\n",
       "      <th>index</th>\n",
       "      <th>Fulfilment</th>\n",
       "    </tr>\n",
       "  </thead>\n",
       "  <tbody>\n",
       "    <tr>\n",
       "      <th>0</th>\n",
       "      <td>Amazon</td>\n",
       "      <td>89575</td>\n",
       "    </tr>\n",
       "    <tr>\n",
       "      <th>1</th>\n",
       "      <td>Merchant</td>\n",
       "      <td>39200</td>\n",
       "    </tr>\n",
       "  </tbody>\n",
       "</table>\n",
       "</div>"
      ],
      "text/plain": [
       "      index  Fulfilment\n",
       "0    Amazon       89575\n",
       "1  Merchant       39200"
      ]
     },
     "execution_count": 55,
     "metadata": {},
     "output_type": "execute_result"
    }
   ],
   "source": [
    "fulfillment_dist=df['Fulfilment'].value_counts().reset_index()\n",
    "fulfillment_dist"
   ]
  },
  {
   "cell_type": "markdown",
   "id": "1d2aff28",
   "metadata": {},
   "source": [
    "# sucess rate analysis"
   ]
  },
  {
   "cell_type": "code",
   "execution_count": 56,
   "id": "20ac6395",
   "metadata": {},
   "outputs": [],
   "source": [
    "success_rate=df[(df['Status']=='Shipped-Delivered to Buyer')|(df['Status']=='Shipped')].groupby('Fulfilment').size()*100\n",
    "Sr=success_rate.reset_index(name='Success rate')"
   ]
  },
  {
   "cell_type": "code",
   "execution_count": 57,
   "id": "446c903c",
   "metadata": {},
   "outputs": [
    {
     "data": {
      "image/png": "[encoded data removed]",
      "text/plain": [
       "<Figure size 1200x300 with 2 Axes>"
      ]
     },
     "metadata": {},
     "output_type": "display_data"
    }
   ],
   "source": [
    "import matplotlib.pyplot as plt\n",
    "import seaborn as sns\n",
    "\n",
    "plt.figure(figsize=(12, 3))\n",
    "sns.set(style='darkgrid')\n",
    "\n",
    "# Plotting Distribution of Fulfillment Methods\n",
    "plt.subplot(1, 2, 1)\n",
    "sns.countplot(data=df, x='Fulfilment', palette='RdYlGn', saturation=0.9)\n",
    "plt.title('Distribution of Fulfillment Methods', fontsize=15)\n",
    "plt.xlabel('Fulfillment Method', fontsize=12)\n",
    "plt.ylabel('Count', fontsize=12)\n",
    "\n",
    "# Plotting Success Rate of Fulfillment Methods\n",
    "plt.subplot(1, 2, 2)\n",
    "sns.barplot(x='Fulfilment', y='Success rate', data=Sr, palette='PuRd')\n",
    "plt.title('Success Rate of Fulfillment Methods', fontsize=15)\n",
    "plt.xlabel('Fulfillment Method', fontsize=12)\n",
    "plt.ylabel('Success Rate (%)', fontsize=12)\n",
    "plt.show()\n"
   ]
  },
  {
   "cell_type": "markdown",
   "id": "ed91935c",
   "metadata": {},
   "source": [
    "# Customer  Segmentation"
   ]
  },
  {
   "cell_type": "code",
   "execution_count": 58,
   "id": "42c74b8c",
   "metadata": {},
   "outputs": [],
   "source": [
    "##Feature Engineering\n",
    "#Calculate total amount spent each customer"
   ]
  },
  {
   "cell_type": "code",
   "execution_count": 59,
   "id": "b1750621",
   "metadata": {},
   "outputs": [],
   "source": [
    "customer_df=df.groupby('Order ID').agg({'Amount':'sum','Quantity':'sum','ship-city':'first','ship-state':'first','ship-postal-code':'first','B2B':'first'}).reset_index()"
   ]
  },
  {
   "cell_type": "code",
   "execution_count": 60,
   "id": "93031387",
   "metadata": {},
   "outputs": [],
   "source": [
    "#Rename columns for clarity\n",
    "customer_df.rename(columns={'Amount':'Total Amount Spent','Quantity':'Total Quantity Purchased'},inplace=True)"
   ]
  },
  {
   "cell_type": "code",
   "execution_count": 61,
   "id": "e623248b",
   "metadata": {},
   "outputs": [
    {
     "name": "stdout",
     "output_type": "stream",
     "text": [
      "              Order ID  Total Amount Spent  Total Quantity Purchased  \\\n",
      "0  171-0000547-8192359               301.0                         1   \n",
      "1  171-0000902-4490745               544.0                         1   \n",
      "2  171-0001409-6228339               422.0                         1   \n",
      "3  171-0003082-5110755               563.0                         1   \n",
      "4  171-0003738-2052324               379.0                         1   \n",
      "\n",
      "          ship-city     ship-state  ship-postal-code    B2B  \n",
      "0  PIMPRI CHINCHWAD    MAHARASHTRA            412101  False  \n",
      "1            Howrah    WEST BENGAL            711104  False  \n",
      "2             KODAD      TELANGANA            508206  False  \n",
      "3     GREATER NOIDA  UTTAR PRADESH            201306  False  \n",
      "4         FIROZABAD  UTTAR PRADESH            283203  False  \n"
     ]
    }
   ],
   "source": [
    "print(customer_df.head())"
   ]
  },
  {
   "cell_type": "code",
   "execution_count": 62,
   "id": "dd94def7",
   "metadata": {},
   "outputs": [],
   "source": [
    "#segmentation of clustering\n",
    "features=customer_df[['Total Amount Spent','Total Quantity Purchased']]"
   ]
  },
  {
   "cell_type": "code",
   "execution_count": 63,
   "id": "bfd47126",
   "metadata": {},
   "outputs": [],
   "source": [
    "#standardize the features\n",
    "scaler=StandardScaler()\n",
    "scaled_features=scaler.fit_transform(features)"
   ]
  },
  {
   "cell_type": "code",
   "execution_count": 64,
   "id": "37fa8d96",
   "metadata": {},
   "outputs": [],
   "source": [
    "inertia = []\n",
    "for n in range(1, 11):\n",
    "    kmeans = KMeans(n_clusters=n, random_state=42)\n",
    "    kmeans.fit(scaled_features)\n",
    "    inertia.append(kmeans.inertia_)\n"
   ]
  },
  {
   "cell_type": "code",
   "execution_count": 72,
   "id": "f8962124",
   "metadata": {},
   "outputs": [
    {
     "data": {
      "image/png": "[encoded data removed]",
      "text/plain": [
       "<Figure size 640x480 with 1 Axes>"
      ]
     },
     "metadata": {},
     "output_type": "display_data"
    }
   ],
   "source": [
    "#plot the elbow curve\n",
    "import matplotlib.pyplot as plt\n",
    "import seaborn as sns\n",
    "sns.set(style='white')\n",
    "plt.plot(range(1,11),inertia,marker='o',color='brown')\n",
    "plt.xlabel('Number of clusters')\n",
    "plt.ylabel('Inertia')\n",
    "plt.title('Elbow Method')\n",
    "plt.show()"
   ]
  },
  {
   "cell_type": "markdown",
   "id": "3c3bbef8",
   "metadata": {},
   "source": [
    "# The elbow in the plot is aound 3 clusters.this suggests that using 3 clusters is a reasonable choice for segmenting  the customers."
   ]
  },
  {
   "cell_type": "code",
   "execution_count": 74,
   "id": "ecf4cf2f",
   "metadata": {},
   "outputs": [],
   "source": [
    "optimal_clusters=3"
   ]
  },
  {
   "cell_type": "code",
   "execution_count": 78,
   "id": "abb38ed3",
   "metadata": {},
   "outputs": [],
   "source": [
    "kmeans = KMeans(n_clusters=optimal_clusters, random_state=42)\n",
    "customer_df['Cluster'] = kmeans.fit_predict(scaled_features)\n"
   ]
  },
  {
   "cell_type": "code",
   "execution_count": 79,
   "id": "3990f2ef",
   "metadata": {},
   "outputs": [
    {
     "name": "stdout",
     "output_type": "stream",
     "text": [
      "              Order ID  Total Amount Spent  Total Quantity Purchased  \\\n",
      "0  171-0000547-8192359               301.0                         1   \n",
      "1  171-0000902-4490745               544.0                         1   \n",
      "2  171-0001409-6228339               422.0                         1   \n",
      "3  171-0003082-5110755               563.0                         1   \n",
      "4  171-0003738-2052324               379.0                         1   \n",
      "\n",
      "          ship-city     ship-state  ship-postal-code    B2B  Cluster  \n",
      "0  PIMPRI CHINCHWAD    MAHARASHTRA            412101  False        0  \n",
      "1            Howrah    WEST BENGAL            711104  False        0  \n",
      "2             KODAD      TELANGANA            508206  False        0  \n",
      "3     GREATER NOIDA  UTTAR PRADESH            201306  False        0  \n",
      "4         FIROZABAD  UTTAR PRADESH            283203  False        0  \n"
     ]
    }
   ],
   "source": [
    "print(customer_df.head())"
   ]
  },
  {
   "cell_type": "code",
   "execution_count": 83,
   "id": "3d85f14a",
   "metadata": {},
   "outputs": [],
   "source": [
    "cluster_analysis=customer_df.groupby('Cluster').agg({'Total Amount Spent':['mean','sum'],'Total Quantity Purchased':['mean','sum'],'ship-city':'count','ship-state':'first','ship-postal-code':'first','B2B':'first'}).reset_index()"
   ]
  },
  {
   "cell_type": "code",
   "execution_count": 84,
   "id": "80f379b2",
   "metadata": {},
   "outputs": [],
   "source": [
    "cluster_analysis.columns=['Avg Amount Spent', 'Total Amount Spent','Avg Quantity Purchased','Total Quantity Purchased', 'Customer Count','Representative City','Representative State','Representative Postal Code', 'B28']"
   ]
  },
  {
   "cell_type": "code",
   "execution_count": 85,
   "id": "cb6cacbb",
   "metadata": {},
   "outputs": [
    {
     "data": {
      "text/html": [
       "<div>\n",
       "<style scoped>\n",
       "    .dataframe tbody tr th:only-of-type {\n",
       "        vertical-align: middle;\n",
       "    }\n",
       "\n",
       "    .dataframe tbody tr th {\n",
       "        vertical-align: top;\n",
       "    }\n",
       "\n",
       "    .dataframe thead th {\n",
       "        text-align: right;\n",
       "    }\n",
       "</style>\n",
       "<table border=\"1\" class=\"dataframe\">\n",
       "  <thead>\n",
       "    <tr style=\"text-align: right;\">\n",
       "      <th></th>\n",
       "      <th>Avg Amount Spent</th>\n",
       "      <th>Total Amount Spent</th>\n",
       "      <th>Avg Quantity Purchased</th>\n",
       "      <th>Total Quantity Purchased</th>\n",
       "      <th>Customer Count</th>\n",
       "      <th>Representative City</th>\n",
       "      <th>Representative State</th>\n",
       "      <th>Representative Postal Code</th>\n",
       "      <th>B28</th>\n",
       "    </tr>\n",
       "  </thead>\n",
       "  <tbody>\n",
       "    <tr>\n",
       "      <th>0</th>\n",
       "      <td>0</td>\n",
       "      <td>649.009248</td>\n",
       "      <td>66385858.00</td>\n",
       "      <td>1.006208</td>\n",
       "      <td>102923</td>\n",
       "      <td>102288</td>\n",
       "      <td>MAHARASHTRA</td>\n",
       "      <td>412101</td>\n",
       "      <td>False</td>\n",
       "    </tr>\n",
       "    <tr>\n",
       "      <th>1</th>\n",
       "      <td>1</td>\n",
       "      <td>1521.236652</td>\n",
       "      <td>9106122.60</td>\n",
       "      <td>2.262780</td>\n",
       "      <td>13545</td>\n",
       "      <td>5986</td>\n",
       "      <td>GUJARAT</td>\n",
       "      <td>380015</td>\n",
       "      <td>False</td>\n",
       "    </tr>\n",
       "    <tr>\n",
       "      <th>2</th>\n",
       "      <td>2</td>\n",
       "      <td>645.365120</td>\n",
       "      <td>7697269.79</td>\n",
       "      <td>0.000000</td>\n",
       "      <td>0</td>\n",
       "      <td>11927</td>\n",
       "      <td>GUJARAT</td>\n",
       "      <td>382424</td>\n",
       "      <td>False</td>\n",
       "    </tr>\n",
       "  </tbody>\n",
       "</table>\n",
       "</div>"
      ],
      "text/plain": [
       "   Avg Amount Spent  Total Amount Spent  Avg Quantity Purchased  \\\n",
       "0                 0          649.009248             66385858.00   \n",
       "1                 1         1521.236652              9106122.60   \n",
       "2                 2          645.365120              7697269.79   \n",
       "\n",
       "   Total Quantity Purchased  Customer Count  Representative City  \\\n",
       "0                  1.006208          102923               102288   \n",
       "1                  2.262780           13545                 5986   \n",
       "2                  0.000000               0                11927   \n",
       "\n",
       "  Representative State  Representative Postal Code    B28  \n",
       "0          MAHARASHTRA                      412101  False  \n",
       "1              GUJARAT                      380015  False  \n",
       "2              GUJARAT                      382424  False  "
      ]
     },
     "execution_count": 85,
     "metadata": {},
     "output_type": "execute_result"
    }
   ],
   "source": [
    "cluster_analysis"
   ]
  },
  {
   "cell_type": "code",
   "execution_count": 87,
   "id": "54059b14",
   "metadata": {},
   "outputs": [
    {
     "data": {
      "image/png": "[encoded data removed]",
      "text/plain": [
       "<Figure size 1000x400 with 1 Axes>"
      ]
     },
     "metadata": {},
     "output_type": "display_data"
    }
   ],
   "source": [
    "plt.figure(figsize=(10,4))\n",
    "\n",
    "sns.set(style='white')\n",
    "\n",
    "sns.scatterplot(x='Total Amount Spent', y='Total Quantity Purchased', hue='Cluster',data=customer_df, palette ='viridis') \n",
    "                \n",
    "\n",
    "plt.title('Customer Segments')\n",
    "\n",
    "plt.xlabel('Total Amount Spent')\n",
    "plt.ylabel('Total Quantity Purchased')\n",
    "\n",
    "plt.legend(loc ='lower right')\n",
    "\n",
    "plt.show()"
   ]
  },
  {
   "cell_type": "markdown",
   "id": "7e2bdc0c",
   "metadata": {},
   "source": [
    "# geographical analysis"
   ]
  },
  {
   "cell_type": "code",
   "execution_count": 89,
   "id": "4252cdfb",
   "metadata": {},
   "outputs": [],
   "source": [
    "bottom_sales_state=df.groupby('ship-state')['Total Sales in Million'].sum().reset_index().sort_values(by='Total Sales in Million',ascending=False).tail(5)"
   ]
  },
  {
   "cell_type": "code",
   "execution_count": 107,
   "id": "8b5ab665",
   "metadata": {},
   "outputs": [
    {
     "data": {
      "text/html": [
       "<div>\n",
       "<style scoped>\n",
       "    .dataframe tbody tr th:only-of-type {\n",
       "        vertical-align: middle;\n",
       "    }\n",
       "\n",
       "    .dataframe tbody tr th {\n",
       "        vertical-align: top;\n",
       "    }\n",
       "\n",
       "    .dataframe thead th {\n",
       "        text-align: right;\n",
       "    }\n",
       "</style>\n",
       "<table border=\"1\" class=\"dataframe\">\n",
       "  <thead>\n",
       "    <tr style=\"text-align: right;\">\n",
       "      <th></th>\n",
       "      <th>ship-state</th>\n",
       "      <th>Total Sales in Million</th>\n",
       "    </tr>\n",
       "  </thead>\n",
       "  <tbody>\n",
       "    <tr>\n",
       "      <th>22</th>\n",
       "      <td>MIZORAM</td>\n",
       "      <td>0.039605</td>\n",
       "    </tr>\n",
       "    <tr>\n",
       "      <th>6</th>\n",
       "      <td>DADRA AND NAGAR</td>\n",
       "      <td>0.039276</td>\n",
       "    </tr>\n",
       "    <tr>\n",
       "      <th>16</th>\n",
       "      <td>LADAKH</td>\n",
       "      <td>0.036737</td>\n",
       "    </tr>\n",
       "    <tr>\n",
       "      <th>17</th>\n",
       "      <td>LAKSHADWEEP</td>\n",
       "      <td>0.002441</td>\n",
       "    </tr>\n",
       "    <tr>\n",
       "      <th>27</th>\n",
       "      <td>RJ</td>\n",
       "      <td>0.001040</td>\n",
       "    </tr>\n",
       "  </tbody>\n",
       "</table>\n",
       "</div>"
      ],
      "text/plain": [
       "         ship-state  Total Sales in Million\n",
       "22          MIZORAM                0.039605\n",
       "6   DADRA AND NAGAR                0.039276\n",
       "16           LADAKH                0.036737\n",
       "17      LAKSHADWEEP                0.002441\n",
       "27               RJ                0.001040"
      ]
     },
     "execution_count": 107,
     "metadata": {},
     "output_type": "execute_result"
    }
   ],
   "source": [
    "bottom_sales_state"
   ]
  },
  {
   "cell_type": "code",
   "execution_count": 110,
   "id": "26446666",
   "metadata": {},
   "outputs": [
    {
     "data": {
      "text/html": [
       "<div>\n",
       "<style scoped>\n",
       "    .dataframe tbody tr th:only-of-type {\n",
       "        vertical-align: middle;\n",
       "    }\n",
       "\n",
       "    .dataframe tbody tr th {\n",
       "        vertical-align: top;\n",
       "    }\n",
       "\n",
       "    .dataframe thead th {\n",
       "        text-align: right;\n",
       "    }\n",
       "</style>\n",
       "<table border=\"1\" class=\"dataframe\">\n",
       "  <thead>\n",
       "    <tr style=\"text-align: right;\">\n",
       "      <th></th>\n",
       "      <th>ship-state</th>\n",
       "      <th>Total Sales in Million</th>\n",
       "    </tr>\n",
       "  </thead>\n",
       "  <tbody>\n",
       "    <tr>\n",
       "      <th>19</th>\n",
       "      <td>MAHARASHTRA</td>\n",
       "      <td>12.921668</td>\n",
       "    </tr>\n",
       "    <tr>\n",
       "      <th>14</th>\n",
       "      <td>KARNATAKA</td>\n",
       "      <td>10.208746</td>\n",
       "    </tr>\n",
       "    <tr>\n",
       "      <th>30</th>\n",
       "      <td>TELANGANA</td>\n",
       "      <td>6.699150</td>\n",
       "    </tr>\n",
       "    <tr>\n",
       "      <th>32</th>\n",
       "      <td>UTTAR PRADESH</td>\n",
       "      <td>6.553145</td>\n",
       "    </tr>\n",
       "    <tr>\n",
       "      <th>29</th>\n",
       "      <td>TAMIL NADU</td>\n",
       "      <td>6.505236</td>\n",
       "    </tr>\n",
       "  </tbody>\n",
       "</table>\n",
       "</div>"
      ],
      "text/plain": [
       "       ship-state  Total Sales in Million\n",
       "19    MAHARASHTRA               12.921668\n",
       "14      KARNATAKA               10.208746\n",
       "30      TELANGANA                6.699150\n",
       "32  UTTAR PRADESH                6.553145\n",
       "29     TAMIL NADU                6.505236"
      ]
     },
     "execution_count": 110,
     "metadata": {},
     "output_type": "execute_result"
    }
   ],
   "source": [
    "top_State_sales=df.groupby('ship-state')['Total Sales in Million'].sum().reset_index().sort_values(by='Total Sales in Million',ascending=False).head(5)\n",
    "top_State_sales"
   ]
  },
  {
   "cell_type": "code",
   "execution_count": 111,
   "id": "483e2bdd",
   "metadata": {},
   "outputs": [
    {
     "data": {
      "text/plain": [
       "Text(0.5, 0, 'State')"
      ]
     },
     "execution_count": 111,
     "metadata": {},
     "output_type": "execute_result"
    },
    {
     "data": {
      "image/png": "[encoded data removed]",
      "text/plain": [
       "<Figure size 1300x400 with 1 Axes>"
      ]
     },
     "metadata": {},
     "output_type": "display_data"
    }
   ],
   "source": [
    "plt.figure(figsize=(13, 4))\n",
    "sns.set(style='darkgrid')\n",
    "\n",
    "# Plot for Top 5 States by Sales\n",
    "plt.subplot(1, 2, 1)\n",
    "sns.barplot(x='ship-state', y='Total Sales in Million', data=top_State_sales, palette='flare',saturation=0.9)\n",
    "plt.title('Top 5 States by Sales', fontsize=15)\n",
    "plt.ylabel('Total Sales in Million', fontsize=12)\n",
    "plt.xlabel('State', fontsize=12)\n",
    "\n"
   ]
  },
  {
   "cell_type": "code",
   "execution_count": 117,
   "id": "2022d289",
   "metadata": {},
   "outputs": [
    {
     "data": {
      "image/png": "[encoded data removed]",
      "text/plain": [
       "<Figure size 640x480 with 1 Axes>"
      ]
     },
     "metadata": {},
     "output_type": "display_data"
    }
   ],
   "source": [
    "plt.subplot(1,2,2)\n",
    "\n",
    "sns.barplot(x='ship-state',y='Total Sales in Million', data=bottom_sales_state, palette ='gist_earth', saturation=0.8)\n",
    "\n",
    "plt.title('Buttom 5 States by Sales', fontsize=15)\n",
    "\n",
    "plt.ylabel('Total Sales in Million', fontsize=12)\n",
    "\n",
    "plt.xlabel('State', fontsize=12)\n",
    "\n",
    "plt.tight_layout()\n",
    "plt.show()"
   ]
  },
  {
   "cell_type": "code",
   "execution_count": 118,
   "id": "f7c38d5c",
   "metadata": {},
   "outputs": [
    {
     "data": {
      "text/html": [
       "<div>\n",
       "<style scoped>\n",
       "    .dataframe tbody tr th:only-of-type {\n",
       "        vertical-align: middle;\n",
       "    }\n",
       "\n",
       "    .dataframe tbody tr th {\n",
       "        vertical-align: top;\n",
       "    }\n",
       "\n",
       "    .dataframe thead th {\n",
       "        text-align: right;\n",
       "    }\n",
       "</style>\n",
       "<table border=\"1\" class=\"dataframe\">\n",
       "  <thead>\n",
       "    <tr style=\"text-align: right;\">\n",
       "      <th></th>\n",
       "      <th>ship-city</th>\n",
       "      <th>Total Sales in Million</th>\n",
       "    </tr>\n",
       "  </thead>\n",
       "  <tbody>\n",
       "    <tr>\n",
       "      <th>775</th>\n",
       "      <td>BENGALURU</td>\n",
       "      <td>6.698265</td>\n",
       "    </tr>\n",
       "    <tr>\n",
       "      <th>2904</th>\n",
       "      <td>HYDERABAD</td>\n",
       "      <td>4.793958</td>\n",
       "    </tr>\n",
       "    <tr>\n",
       "      <th>4793</th>\n",
       "      <td>MUMBAI</td>\n",
       "      <td>3.585314</td>\n",
       "    </tr>\n",
       "    <tr>\n",
       "      <th>5391</th>\n",
       "      <td>NEW DELHI</td>\n",
       "      <td>3.490346</td>\n",
       "    </tr>\n",
       "    <tr>\n",
       "      <th>1464</th>\n",
       "      <td>CHENNAI</td>\n",
       "      <td>2.994311</td>\n",
       "    </tr>\n",
       "    <tr>\n",
       "      <th>6156</th>\n",
       "      <td>PUNE</td>\n",
       "      <td>2.270924</td>\n",
       "    </tr>\n",
       "    <tr>\n",
       "      <th>3710</th>\n",
       "      <td>KOLKATA</td>\n",
       "      <td>1.368826</td>\n",
       "    </tr>\n",
       "    <tr>\n",
       "      <th>2618</th>\n",
       "      <td>GURUGRAM</td>\n",
       "      <td>1.192451</td>\n",
       "    </tr>\n",
       "    <tr>\n",
       "      <th>7583</th>\n",
       "      <td>THANE</td>\n",
       "      <td>0.968244</td>\n",
       "    </tr>\n",
       "    <tr>\n",
       "      <th>4395</th>\n",
       "      <td>LUCKNOW</td>\n",
       "      <td>0.895673</td>\n",
       "    </tr>\n",
       "  </tbody>\n",
       "</table>\n",
       "</div>"
      ],
      "text/plain": [
       "      ship-city  Total Sales in Million\n",
       "775   BENGALURU                6.698265\n",
       "2904  HYDERABAD                4.793958\n",
       "4793     MUMBAI                3.585314\n",
       "5391  NEW DELHI                3.490346\n",
       "1464    CHENNAI                2.994311\n",
       "6156       PUNE                2.270924\n",
       "3710    KOLKATA                1.368826\n",
       "2618   GURUGRAM                1.192451\n",
       "7583      THANE                0.968244\n",
       "4395    LUCKNOW                0.895673"
      ]
     },
     "execution_count": 118,
     "metadata": {},
     "output_type": "execute_result"
    }
   ],
   "source": [
    "top_sales_cities=df.groupby('ship-city')['Total Sales in Million'].sum().reset_index().sort_values(by='Total Sales in Million',ascending=False).head(10)\n",
    "top_sales_cities"
   ]
  },
  {
   "cell_type": "code",
   "execution_count": 120,
   "id": "c2a92948",
   "metadata": {},
   "outputs": [
    {
     "data": {
      "text/html": [
       "<div>\n",
       "<style scoped>\n",
       "    .dataframe tbody tr th:only-of-type {\n",
       "        vertical-align: middle;\n",
       "    }\n",
       "\n",
       "    .dataframe tbody tr th {\n",
       "        vertical-align: top;\n",
       "    }\n",
       "\n",
       "    .dataframe thead th {\n",
       "        text-align: right;\n",
       "    }\n",
       "</style>\n",
       "<table border=\"1\" class=\"dataframe\">\n",
       "  <thead>\n",
       "    <tr style=\"text-align: right;\">\n",
       "      <th></th>\n",
       "      <th>ship-city</th>\n",
       "      <th>Total Sales in Million</th>\n",
       "    </tr>\n",
       "  </thead>\n",
       "  <tbody>\n",
       "    <tr>\n",
       "      <th>8380</th>\n",
       "      <td>Vizhinjam, Trivandrum</td>\n",
       "      <td>0.0</td>\n",
       "    </tr>\n",
       "    <tr>\n",
       "      <th>5383</th>\n",
       "      <td>NEPANAGAR</td>\n",
       "      <td>0.0</td>\n",
       "    </tr>\n",
       "    <tr>\n",
       "      <th>8382</th>\n",
       "      <td>Vizianagaram a</td>\n",
       "      <td>0.0</td>\n",
       "    </tr>\n",
       "    <tr>\n",
       "      <th>1323</th>\n",
       "      <td>Bokaro steel city</td>\n",
       "      <td>0.0</td>\n",
       "    </tr>\n",
       "    <tr>\n",
       "      <th>5459</th>\n",
       "      <td>NIVI</td>\n",
       "      <td>0.0</td>\n",
       "    </tr>\n",
       "    <tr>\n",
       "      <th>5442</th>\n",
       "      <td>NIBRA</td>\n",
       "      <td>0.0</td>\n",
       "    </tr>\n",
       "    <tr>\n",
       "      <th>1333</th>\n",
       "      <td>Borivali East</td>\n",
       "      <td>0.0</td>\n",
       "    </tr>\n",
       "    <tr>\n",
       "      <th>5416</th>\n",
       "      <td>NEW DELHIDe</td>\n",
       "      <td>0.0</td>\n",
       "    </tr>\n",
       "    <tr>\n",
       "      <th>8401</th>\n",
       "      <td>WANI</td>\n",
       "      <td>0.0</td>\n",
       "    </tr>\n",
       "    <tr>\n",
       "      <th>1410</th>\n",
       "      <td>CHANDERI</td>\n",
       "      <td>0.0</td>\n",
       "    </tr>\n",
       "  </tbody>\n",
       "</table>\n",
       "</div>"
      ],
      "text/plain": [
       "                  ship-city  Total Sales in Million\n",
       "8380  Vizhinjam, Trivandrum                     0.0\n",
       "5383              NEPANAGAR                     0.0\n",
       "8382         Vizianagaram a                     0.0\n",
       "1323      Bokaro steel city                     0.0\n",
       "5459                   NIVI                     0.0\n",
       "5442                  NIBRA                     0.0\n",
       "1333          Borivali East                     0.0\n",
       "5416            NEW DELHIDe                     0.0\n",
       "8401                   WANI                     0.0\n",
       "1410               CHANDERI                     0.0"
      ]
     },
     "execution_count": 120,
     "metadata": {},
     "output_type": "execute_result"
    }
   ],
   "source": [
    "bottom_sales_cities=df.groupby('ship-city')['Total Sales in Million'].sum().reset_index().sort_values(by='Total Sales in Million',ascending=False).tail(10)\n",
    "bottom_sales_cities"
   ]
  },
  {
   "cell_type": "code",
   "execution_count": 122,
   "id": "c3ece912",
   "metadata": {},
   "outputs": [
    {
     "data": {
      "image/png": "[encoded data removed]",
      "text/plain": [
       "<Figure size 1300x500 with 2 Axes>"
      ]
     },
     "metadata": {},
     "output_type": "display_data"
    }
   ],
   "source": [
    "plt.figure(figsize=(13,5))\n",
    "\n",
    "sns.set(style='white')\n",
    "\n",
    "plt.subplot(1,2,1)\n",
    "\n",
    "sns.barplot(y='ship-city', x='Total Sales in Million', data=top_sales_cities, palette='tab20b')\n",
    "\n",
    "plt.title('Top 10 Cities by Sales', fontsize=15)\n",
    "\n",
    "plt.xlabel('Total Sales in Million', fontsize=12)\n",
    "\n",
    "plt.ylabel('State', fontsize=12)\n",
    "\n",
    "plt.subplot(1,2,2)\n",
    "\n",
    "sns.barplot(y='ship-city',x='Total Sales in Million', data=bottom_sales_cities)\n",
    "\n",
    "plt.title('Bottom 10 Cities by Sales', fontsize=15)\n",
    "\n",
    "plt.xlabel('Total Sales in Million', fontsize=12)\n",
    "\n",
    "plt.ylabel('State', fontsize=12) \n",
    "plt.xticks([0, 1, 2, 3, 4, 5])\n",
    "\n",
    "plt.tight_layout()\n",
    "plt.show()"
   ]
  },
  {
   "cell_type": "markdown",
   "id": "77f8e76c",
   "metadata": {},
   "source": [
    "# Key Findings:\n",
    "\n",
    "* Top 10 Cities by Sales:\n",
    "\n",
    "* Bengaluru leads the sales with the highest total sales in millions.\n",
    "\n",
    "* Hyderabad, Mumbai, New Delhi, and Chennal follow, indicating these cities are major hubs for Amazon sales.\n",
    "\n",
    "* Other top cities include Pune, Kolkata, Gurugram, Thane, and Lucknow."
   ]
  },
  {
   "cell_type": "markdown",
   "id": "1a6f0beb",
   "metadata": {},
   "source": [
    "# Bottom 10 Cities by Sales:\n",
    "\n",
    "* Barnala and Kanti Nagar extension, Krishna Nagar have the lowest sales.\n",
    "\n",
    "* Other cities with minimal sales include Kanpur dehat, Kanjirappally (Kottayam), Kandivali (W), Mumbal, Barghat,Kanchikacheria,Kalwa(Thane),Barki Saraiya and Shalimar Bagh.\n"
   ]
  },
  {
   "cell_type": "markdown",
   "id": "05ed6d36",
   "metadata": {},
   "source": [
    "# Insights:\n",
    "\n",
    "* Bengaluru, Hyderabad, Mumba, New Delhi and Chennal lead in sales, showing a strong customer base in these metropolitan areas.\n",
    "\n",
    "* Cities with lower sales, especially the bottom 10, have potential for growth. Targeted marketing and better agistics sould boost sales here.\n",
    "\n",
    "* The sales gap between tap and bottom cities might be due to infrastructure and logistics differences. Improving delivery infrastructure in low-performing cities could enhance sales."
   ]
  },
  {
   "cell_type": "code",
   "execution_count": null,
   "id": "f936d8b2",
   "metadata": {},
   "outputs": [],
   "source": []
  }
 ],
 "metadata": {
  "kernelspec": {
   "display_name": "Python 3 (ipykernel)",
   "language": "python",
   "name": "python3"
  },
  "language_info": {
   "codemirror_mode": {
    "name": "ipython",
    "version": 3
   },
   "file_extension": ".py",
   "mimetype": "text/x-python",
   "name": "python",
   "nbconvert_exporter": "python",
   "pygments_lexer": "ipython3",
   "version": "3.11.5"
  }
 },
 "nbformat": 4,
 "nbformat_minor": 5
}
